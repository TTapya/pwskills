{
 "cells": [
  {
   "cell_type": "markdown",
   "id": "59634f0b-7ce2-4808-84b7-de71a776ee9b",
   "metadata": {},
   "source": [
    "<h1><center>Assignment</center></h1>"
   ]
  },
  {
   "cell_type": "markdown",
   "id": "9a066f89-abbe-4e0c-bd05-8b2d484ea60b",
   "metadata": {},
   "source": [
    "### Q1. What is an API? Give an example, where an API is used in real life."
   ]
  },
  {
   "cell_type": "markdown",
   "id": "6f58eee2-b8ae-472e-a3ba-6317b1c31a78",
   "metadata": {},
   "source": [
    "APIs are mechanisms that enable two software components to communicate with each other using a set of definitions and protocols. For example, the weather bureau’s software system contains daily weather data. The weather app on your phone “talks” to this system via APIs and shows you daily weather updates on your phone."
   ]
  },
  {
   "cell_type": "markdown",
   "id": "41c977cb-3318-464d-b60f-4245dc27c79a",
   "metadata": {},
   "source": [
    "### Q2. Give advantages and disadvantages of using API."
   ]
  },
  {
   "cell_type": "markdown",
   "id": "bf06a508-8f04-4bd9-b3c8-fb0fa7cb7982",
   "metadata": {},
   "source": [
    "#### Advantages\n",
    "\n",
    "<b>Integration</b>\n",
    "- An example of an integration is to push notifications from your product (such as CRM, Helpdesk) to a messaging tool such as Slack. In this way, if your customer uses Slack they can receive notifications without having to login directly to your system or check emails.\n",
    "\n",
    "<b>Functionality</b>\n",
    "- In the early days of Twitter, some of the most popular Twitter clients were produced by third parties using the Twitter API. Twitter and its users benefited from the new functionality that was undertaken by other companies."
   ]
  },
  {
   "cell_type": "markdown",
   "id": "5fe5a9a9-fb76-4479-9808-88fc6c054196",
   "metadata": {},
   "source": [
    "#### Disadvantages\n",
    "\n",
    "<b>Cost</b>\n",
    "- Providing an API is expensive in terms of development time, ongoing maintenance, providing API documentation on your website and providing support to users of your API.\n",
    "\n",
    "<b>Security exposure</b>\n",
    "- Adding an API adds another attack surface to your website."
   ]
  },
  {
   "cell_type": "markdown",
   "id": "a9c1c7d6-ce5c-4d91-8b0f-28beaa5d648d",
   "metadata": {},
   "source": [
    "### Q3. What is a Web API? Differentiate between API and Web API."
   ]
  },
  {
   "cell_type": "markdown",
   "id": "2abaae1c-60bf-4807-919b-9e2429925e53",
   "metadata": {},
   "source": [
    "A web API is an application programming interface (API) for either a web server or a web browser. As a web development concept, it can be related to a web application's client side (including any web frameworks being used). A server-side web API consists of one or more publicly exposed endpoints to a defined request–response message system, typically expressed in JSON or XML by means of an HTTP-based web server. A server API (SAPI) is not considered a server-side web API, unless it is publicly accessible by a remote web application.\n",
    "\n",
    "#### API vs Web API\n",
    "\n",
    "API is set of protocols, routines, and tools for building software applications.\n",
    "It defines how software should interact and communicate with each other, \n",
    "enabling exchange of data and services.\n",
    "\n",
    "Web API that is specifically designed to be used over the web, via HTTP(S) requests. \n",
    "It allows developers to access the functionality of a web-based application or \n",
    "service, such as social media platforms by sending requests to specific URLs and\n",
    "receiving responses in a specified format, such as JSON or XML."
   ]
  },
  {
   "cell_type": "markdown",
   "id": "620ad75a-feb7-4611-8ae6-a0f0fa3339f8",
   "metadata": {},
   "source": [
    "### Q4. Explain REST and SOAP Architecture. Mention shortcomings of SOAP."
   ]
  },
  {
   "cell_type": "markdown",
   "id": "e6f8b820-80ac-48b6-a871-5fc40806b70a",
   "metadata": {},
   "source": [
    "REST is a set of architectural principles attuned to the needs of lightweight web services and mobile applications. Because it's a set of guidelines, it leaves the implementation of these recommendations to developers. When a request for data is sent to a REST API, it’s usually done through hypertext transfer protocol (commonly referred to as HTTP). Once a request is received, APIs designed for REST (called RESTful APIs or RESTful web services) can return messages in a variety of formats: HTML, XML, plain text, and JSON. JSON (JavaScript object notation) is favored as a message format because it can be read by any programming language (despite the name), is human- and machine-readable, and is lightweight. In this way, RESTful APIs are more flexible and can be easier to set up.\n",
    "\n",
    "SOAP is a standard protocol that was first designed so that applications built with different languages and on different platforms could communicate. Because it is a protocol, it imposes built-in rules that increase its complexity and overhead, which can lead to longer page load times. However, these standards also offer built-in compliances that can make it preferable for enterprise scenarios. The built-in compliance standards include security, atomicity, consistency, isolation, and durability (ACID), which is a set of properties for ensuring reliable database transactions.\n",
    "\n",
    "#### Cons of SOAP Architecture\n",
    "\n",
    "##### Highly complex\n",
    "\n",
    "In comparison to Rest, SOAP is significantly more complex. It's also less flexible. This might present a challenge for developers that are not highly skilled. The extensive processing required may also slow down performance.\n",
    "\n",
    "##### No variety of data formats\n",
    "\n",
    "SOAP is also extremely limited in its support of data formats. The formats supported by Rest include HTML, JSON, YAML, XML and others. Meanwhile, SOAP only supports XML.\n",
    "\n",
    "##### API calls are not cached\n",
    "\n",
    "The process where a request is sent after an API is set up with the correct endpoints is referred to as an API call. The process results in the information being transferred, processed and feedback being provided. It's not possible for SOAP API calls to be cached.\n",
    "\n",
    "##### Uses more bandwidth\n",
    "\n",
    "SOAP is generally slower in comparison to Rest and it also uses more bandwidth given its very complex nature. It’s another limiting factor in the efficacy of this technology for certain projects.\n"
   ]
  },
  {
   "cell_type": "markdown",
   "id": "ed6e1d58-2388-4456-8d4e-c4ade9152092",
   "metadata": {},
   "source": [
    "### Q5. Differentiate between REST and SOAP."
   ]
  },
  {
   "cell_type": "markdown",
   "id": "7e526d67-cd83-4a32-8c8a-0961366cb2d4",
   "metadata": {},
   "source": [
    "Most experts have reached a consensus that Rest should be the preferred platform unless there's a good enough reason to use SOAP instead. However, it can't be ignored that there are very specific use cases in which SOAP would be the obvious choice.\n",
    "\n",
    "SOAP is an excellent solution for situations where Res can't be used, particularly if stateful operations need to be processed. A SOAP API makes it possible to have a chain of operations in a single transaction. Something that’s not going to be possible with a Rest API.\n",
    "\n",
    "Those looking to build out enterprise-level web services will naturally prefer SOAP owing to its advanced security measures. PayPal's public API is one of the prime examples of a SOAP API.\n",
    "\n",
    "This API enables PayPal users to accept payments through PayPal and credit cards, add a PayPal button to their own websites and ecommerce stores, in addition to logging in with PayPal."
   ]
  }
 ],
 "metadata": {
  "kernelspec": {
   "display_name": "Python 3 (ipykernel)",
   "language": "python",
   "name": "python3"
  },
  "language_info": {
   "codemirror_mode": {
    "name": "ipython",
    "version": 3
   },
   "file_extension": ".py",
   "mimetype": "text/x-python",
   "name": "python",
   "nbconvert_exporter": "python",
   "pygments_lexer": "ipython3",
   "version": "3.10.8"
  }
 },
 "nbformat": 4,
 "nbformat_minor": 5
}
