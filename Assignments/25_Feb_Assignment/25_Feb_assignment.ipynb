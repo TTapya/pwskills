{
 "cells": [
  {
   "cell_type": "markdown",
   "id": "fb086230-ef74-4074-85f1-51d88539b1a2",
   "metadata": {},
   "source": [
    "<h1><center>Assignment</center></h1>"
   ]
  },
  {
   "cell_type": "markdown",
   "id": "389d033f-f18d-4738-ade8-a8024886493c",
   "metadata": {},
   "source": [
    "Consider following code to answer further questions:"
   ]
  },
  {
   "cell_type": "code",
   "execution_count": 1,
   "id": "a31eddb5-fac5-425a-9331-0695745a8637",
   "metadata": {},
   "outputs": [
    {
     "data": {
      "text/html": [
       "<div>\n",
       "<style scoped>\n",
       "    .dataframe tbody tr th:only-of-type {\n",
       "        vertical-align: middle;\n",
       "    }\n",
       "\n",
       "    .dataframe tbody tr th {\n",
       "        vertical-align: top;\n",
       "    }\n",
       "\n",
       "    .dataframe thead th {\n",
       "        text-align: right;\n",
       "    }\n",
       "</style>\n",
       "<table border=\"1\" class=\"dataframe\">\n",
       "  <thead>\n",
       "    <tr style=\"text-align: right;\">\n",
       "      <th></th>\n",
       "      <th>course_name</th>\n",
       "      <th>duration</th>\n",
       "    </tr>\n",
       "  </thead>\n",
       "  <tbody>\n",
       "    <tr>\n",
       "      <th>0</th>\n",
       "      <td>Data Science</td>\n",
       "      <td>2</td>\n",
       "    </tr>\n",
       "    <tr>\n",
       "      <th>1</th>\n",
       "      <td>Machine Learning</td>\n",
       "      <td>3</td>\n",
       "    </tr>\n",
       "    <tr>\n",
       "      <th>2</th>\n",
       "      <td>Big Data</td>\n",
       "      <td>6</td>\n",
       "    </tr>\n",
       "    <tr>\n",
       "      <th>3</th>\n",
       "      <td>Data Engineer</td>\n",
       "      <td>4</td>\n",
       "    </tr>\n",
       "  </tbody>\n",
       "</table>\n",
       "</div>"
      ],
      "text/plain": [
       "        course_name  duration\n",
       "0      Data Science         2\n",
       "1  Machine Learning         3\n",
       "2          Big Data         6\n",
       "3     Data Engineer         4"
      ]
     },
     "execution_count": 1,
     "metadata": {},
     "output_type": "execute_result"
    }
   ],
   "source": [
    "import pandas as pd\n",
    "course_name = ['Data Science', 'Machine Learning', 'Big Data', 'Data Engineer']\n",
    "duration = [2,3,6,4]\n",
    "df = pd.DataFrame(data = {'course_name' : course_name, 'duration' : duration})\n",
    "df"
   ]
  },
  {
   "cell_type": "markdown",
   "id": "459b811f-327f-4293-9d59-7c4f3cd9fa74",
   "metadata": {},
   "source": [
    "### Q1. Write a code to print the data present in the second row of the dataframe, df."
   ]
  },
  {
   "cell_type": "code",
   "execution_count": 2,
   "id": "25331442-c975-435f-a37d-e767b263e2f1",
   "metadata": {},
   "outputs": [
    {
     "data": {
      "text/plain": [
       "course_name    Machine Learning\n",
       "duration                      3\n",
       "Name: 1, dtype: object"
      ]
     },
     "execution_count": 2,
     "metadata": {},
     "output_type": "execute_result"
    }
   ],
   "source": [
    "df.iloc[1]"
   ]
  },
  {
   "cell_type": "markdown",
   "id": "1f652a43-c8ca-4ec7-a913-2502bb2ec61d",
   "metadata": {},
   "source": [
    "### Q2. What is the difference between the functions loc and iloc in pandas.DataFrame?"
   ]
  },
  {
   "cell_type": "markdown",
   "id": "71d8be3a-7778-485a-9803-cfcdcb36e2b7",
   "metadata": {},
   "source": [
    "The difference between the functions loc and iloc in pandas.DataFrame is that loc is label-based, which means that you have to specify rows and columns based on their row and column labels, whereas iloc is integer index-based, so you have to specify rows and columns by their integer index positions (0-based integer position)."
   ]
  },
  {
   "cell_type": "markdown",
   "id": "5b193313-954b-4632-8ced-d93811b8d946",
   "metadata": {},
   "source": [
    "### Q3. Reindex the given dataframe using a variable, reindex = [3,0,1,2] and store it in the variable, new_df then find the output for both new_df.loc[2] and new_df.iloc[2].\n",
    "\n",
    "Did you observe any difference in both the outputs? If so then explain it."
   ]
  },
  {
   "cell_type": "code",
   "execution_count": 3,
   "id": "214e80b6-3c0c-4fd9-b248-c1cc31397808",
   "metadata": {},
   "outputs": [
    {
     "name": "stdout",
     "output_type": "stream",
     "text": [
      "course_name    Big Data\n",
      "duration              6\n",
      "Name: 2, dtype: object\n",
      "course_name    Machine Learning\n",
      "duration                      3\n",
      "Name: 1, dtype: object\n"
     ]
    },
    {
     "data": {
      "text/html": [
       "<div>\n",
       "<style scoped>\n",
       "    .dataframe tbody tr th:only-of-type {\n",
       "        vertical-align: middle;\n",
       "    }\n",
       "\n",
       "    .dataframe tbody tr th {\n",
       "        vertical-align: top;\n",
       "    }\n",
       "\n",
       "    .dataframe thead th {\n",
       "        text-align: right;\n",
       "    }\n",
       "</style>\n",
       "<table border=\"1\" class=\"dataframe\">\n",
       "  <thead>\n",
       "    <tr style=\"text-align: right;\">\n",
       "      <th></th>\n",
       "      <th>course_name</th>\n",
       "      <th>duration</th>\n",
       "    </tr>\n",
       "  </thead>\n",
       "  <tbody>\n",
       "    <tr>\n",
       "      <th>3</th>\n",
       "      <td>Data Engineer</td>\n",
       "      <td>4</td>\n",
       "    </tr>\n",
       "    <tr>\n",
       "      <th>0</th>\n",
       "      <td>Data Science</td>\n",
       "      <td>2</td>\n",
       "    </tr>\n",
       "    <tr>\n",
       "      <th>1</th>\n",
       "      <td>Machine Learning</td>\n",
       "      <td>3</td>\n",
       "    </tr>\n",
       "    <tr>\n",
       "      <th>2</th>\n",
       "      <td>Big Data</td>\n",
       "      <td>6</td>\n",
       "    </tr>\n",
       "  </tbody>\n",
       "</table>\n",
       "</div>"
      ],
      "text/plain": [
       "        course_name  duration\n",
       "3     Data Engineer         4\n",
       "0      Data Science         2\n",
       "1  Machine Learning         3\n",
       "2          Big Data         6"
      ]
     },
     "execution_count": 3,
     "metadata": {},
     "output_type": "execute_result"
    }
   ],
   "source": [
    "new_df = df.reindex([3, 0, 1, 2])\n",
    "print(new_df.loc[2])\n",
    "print(new_df.iloc[2])\n",
    "new_df"
   ]
  },
  {
   "cell_type": "markdown",
   "id": "5ec646b9-e399-4d20-b055-4f39386f37a6",
   "metadata": {},
   "source": [
    "new_df.loc[2] returns the row with label 2, which is the third row in the original dataframe, whereas new_df.iloc[2] returns the row with index position 2, which is the second row in the new dataframe after reindexing."
   ]
  },
  {
   "cell_type": "markdown",
   "id": "499fdedf-0fc8-46e0-bee2-e0155e00acd6",
   "metadata": {},
   "source": [
    "### Consider the below code to answer further questions:\n",
    "\n",
    "import pandas as pd<br>\n",
    "import numpy as np<br>\n",
    "columns = ['column_1', 'column_2', 'column_3', 'column_4', 'column_5', 'column_6']<br>\n",
    "indices = [1,2,3,4,5,6]<br>\n",
    "#Creating a dataframe:<br>\n",
    "df1 = pd.DataFrame(np.random.rand(6,6), columns = columns, index = indices)"
   ]
  },
  {
   "cell_type": "code",
   "execution_count": 4,
   "id": "90afa531-785e-49b2-abd8-02ea4589a155",
   "metadata": {},
   "outputs": [
    {
     "data": {
      "text/html": [
       "<div>\n",
       "<style scoped>\n",
       "    .dataframe tbody tr th:only-of-type {\n",
       "        vertical-align: middle;\n",
       "    }\n",
       "\n",
       "    .dataframe tbody tr th {\n",
       "        vertical-align: top;\n",
       "    }\n",
       "\n",
       "    .dataframe thead th {\n",
       "        text-align: right;\n",
       "    }\n",
       "</style>\n",
       "<table border=\"1\" class=\"dataframe\">\n",
       "  <thead>\n",
       "    <tr style=\"text-align: right;\">\n",
       "      <th></th>\n",
       "      <th>column_1</th>\n",
       "      <th>column_2</th>\n",
       "      <th>column_3</th>\n",
       "      <th>column_4</th>\n",
       "      <th>column_5</th>\n",
       "      <th>column_6</th>\n",
       "    </tr>\n",
       "  </thead>\n",
       "  <tbody>\n",
       "    <tr>\n",
       "      <th>1</th>\n",
       "      <td>0.269473</td>\n",
       "      <td>0.627270</td>\n",
       "      <td>0.771690</td>\n",
       "      <td>0.368341</td>\n",
       "      <td>0.489840</td>\n",
       "      <td>0.858143</td>\n",
       "    </tr>\n",
       "    <tr>\n",
       "      <th>2</th>\n",
       "      <td>0.787258</td>\n",
       "      <td>0.066351</td>\n",
       "      <td>0.967252</td>\n",
       "      <td>0.406736</td>\n",
       "      <td>0.598555</td>\n",
       "      <td>0.590039</td>\n",
       "    </tr>\n",
       "    <tr>\n",
       "      <th>3</th>\n",
       "      <td>0.673574</td>\n",
       "      <td>0.494910</td>\n",
       "      <td>0.201412</td>\n",
       "      <td>0.441576</td>\n",
       "      <td>0.838812</td>\n",
       "      <td>0.658970</td>\n",
       "    </tr>\n",
       "    <tr>\n",
       "      <th>4</th>\n",
       "      <td>0.602615</td>\n",
       "      <td>0.006517</td>\n",
       "      <td>0.419454</td>\n",
       "      <td>0.881355</td>\n",
       "      <td>0.023437</td>\n",
       "      <td>0.863067</td>\n",
       "    </tr>\n",
       "    <tr>\n",
       "      <th>5</th>\n",
       "      <td>0.036768</td>\n",
       "      <td>0.181486</td>\n",
       "      <td>0.060699</td>\n",
       "      <td>0.559650</td>\n",
       "      <td>0.883278</td>\n",
       "      <td>0.978538</td>\n",
       "    </tr>\n",
       "    <tr>\n",
       "      <th>6</th>\n",
       "      <td>0.618513</td>\n",
       "      <td>0.998757</td>\n",
       "      <td>0.404343</td>\n",
       "      <td>0.731197</td>\n",
       "      <td>0.895738</td>\n",
       "      <td>0.424897</td>\n",
       "    </tr>\n",
       "  </tbody>\n",
       "</table>\n",
       "</div>"
      ],
      "text/plain": [
       "   column_1  column_2  column_3  column_4  column_5  column_6\n",
       "1  0.269473  0.627270  0.771690  0.368341  0.489840  0.858143\n",
       "2  0.787258  0.066351  0.967252  0.406736  0.598555  0.590039\n",
       "3  0.673574  0.494910  0.201412  0.441576  0.838812  0.658970\n",
       "4  0.602615  0.006517  0.419454  0.881355  0.023437  0.863067\n",
       "5  0.036768  0.181486  0.060699  0.559650  0.883278  0.978538\n",
       "6  0.618513  0.998757  0.404343  0.731197  0.895738  0.424897"
      ]
     },
     "execution_count": 4,
     "metadata": {},
     "output_type": "execute_result"
    }
   ],
   "source": [
    "import pandas as pd\n",
    "import numpy as np\n",
    "columns = ['column_1', 'column_2', 'column_3', 'column_4', 'column_5', 'column_6']\n",
    "indices = [1,2,3,4,5,6]\n",
    "df1 = pd.DataFrame(np.random.rand(6,6), columns = columns, index = indices)\n",
    "df1"
   ]
  },
  {
   "cell_type": "markdown",
   "id": "01e77aec-3f35-42ae-b85c-9cd186c3f7dc",
   "metadata": {},
   "source": [
    "### Q4. Write a code to find the following statistical measurements for the above dataframe df1:\n",
    "- mean of each and every column present in the dataframe.\n",
    "- standard deviation of column, ‘column_2’"
   ]
  },
  {
   "cell_type": "code",
   "execution_count": 5,
   "id": "de966135-9a8e-4a2f-a28b-2da726846eb2",
   "metadata": {},
   "outputs": [
    {
     "data": {
      "text/plain": [
       "column_1    0.498034\n",
       "column_2    0.395882\n",
       "column_3    0.470808\n",
       "column_4    0.564809\n",
       "column_5    0.621610\n",
       "column_6    0.728942\n",
       "dtype: float64"
      ]
     },
     "execution_count": 5,
     "metadata": {},
     "output_type": "execute_result"
    }
   ],
   "source": [
    "df1.mean()"
   ]
  },
  {
   "cell_type": "code",
   "execution_count": 6,
   "id": "23512937-2a3a-44ae-aff4-33869ec9efb7",
   "metadata": {},
   "outputs": [
    {
     "data": {
      "text/plain": [
       "0.382874959508801"
      ]
     },
     "execution_count": 6,
     "metadata": {},
     "output_type": "execute_result"
    }
   ],
   "source": [
    "df1['column_2'].std()"
   ]
  },
  {
   "cell_type": "markdown",
   "id": "495698b4-475a-415c-a871-19f5e0331bbf",
   "metadata": {},
   "source": [
    "### Q5. Replace the data present in the second row of column, ‘column_2’ by a string variable then find the mean of column, column_2.\n",
    "\n",
    "If you are getting errors in executing it then explain why.<br>\n",
    "[Hint: To replace the data use df1.loc[] and equate this to string data of your choice.]"
   ]
  },
  {
   "cell_type": "code",
   "execution_count": 7,
   "id": "e7ae5570-cbd7-4095-b308-35221ebe581f",
   "metadata": {},
   "outputs": [
    {
     "data": {
      "text/html": [
       "<div>\n",
       "<style scoped>\n",
       "    .dataframe tbody tr th:only-of-type {\n",
       "        vertical-align: middle;\n",
       "    }\n",
       "\n",
       "    .dataframe tbody tr th {\n",
       "        vertical-align: top;\n",
       "    }\n",
       "\n",
       "    .dataframe thead th {\n",
       "        text-align: right;\n",
       "    }\n",
       "</style>\n",
       "<table border=\"1\" class=\"dataframe\">\n",
       "  <thead>\n",
       "    <tr style=\"text-align: right;\">\n",
       "      <th></th>\n",
       "      <th>column_1</th>\n",
       "      <th>column_2</th>\n",
       "      <th>column_3</th>\n",
       "      <th>column_4</th>\n",
       "      <th>column_5</th>\n",
       "      <th>column_6</th>\n",
       "    </tr>\n",
       "  </thead>\n",
       "  <tbody>\n",
       "    <tr>\n",
       "      <th>1</th>\n",
       "      <td>0.269473</td>\n",
       "      <td>0.62727</td>\n",
       "      <td>0.771690</td>\n",
       "      <td>0.368341</td>\n",
       "      <td>0.489840</td>\n",
       "      <td>0.858143</td>\n",
       "    </tr>\n",
       "    <tr>\n",
       "      <th>2</th>\n",
       "      <td>0.787258</td>\n",
       "      <td>TRK</td>\n",
       "      <td>0.967252</td>\n",
       "      <td>0.406736</td>\n",
       "      <td>0.598555</td>\n",
       "      <td>0.590039</td>\n",
       "    </tr>\n",
       "    <tr>\n",
       "      <th>3</th>\n",
       "      <td>0.673574</td>\n",
       "      <td>0.49491</td>\n",
       "      <td>0.201412</td>\n",
       "      <td>0.441576</td>\n",
       "      <td>0.838812</td>\n",
       "      <td>0.658970</td>\n",
       "    </tr>\n",
       "    <tr>\n",
       "      <th>4</th>\n",
       "      <td>0.602615</td>\n",
       "      <td>0.006517</td>\n",
       "      <td>0.419454</td>\n",
       "      <td>0.881355</td>\n",
       "      <td>0.023437</td>\n",
       "      <td>0.863067</td>\n",
       "    </tr>\n",
       "    <tr>\n",
       "      <th>5</th>\n",
       "      <td>0.036768</td>\n",
       "      <td>0.181486</td>\n",
       "      <td>0.060699</td>\n",
       "      <td>0.559650</td>\n",
       "      <td>0.883278</td>\n",
       "      <td>0.978538</td>\n",
       "    </tr>\n",
       "    <tr>\n",
       "      <th>6</th>\n",
       "      <td>0.618513</td>\n",
       "      <td>0.998757</td>\n",
       "      <td>0.404343</td>\n",
       "      <td>0.731197</td>\n",
       "      <td>0.895738</td>\n",
       "      <td>0.424897</td>\n",
       "    </tr>\n",
       "  </tbody>\n",
       "</table>\n",
       "</div>"
      ],
      "text/plain": [
       "   column_1  column_2  column_3  column_4  column_5  column_6\n",
       "1  0.269473   0.62727  0.771690  0.368341  0.489840  0.858143\n",
       "2  0.787258       TRK  0.967252  0.406736  0.598555  0.590039\n",
       "3  0.673574   0.49491  0.201412  0.441576  0.838812  0.658970\n",
       "4  0.602615  0.006517  0.419454  0.881355  0.023437  0.863067\n",
       "5  0.036768  0.181486  0.060699  0.559650  0.883278  0.978538\n",
       "6  0.618513  0.998757  0.404343  0.731197  0.895738  0.424897"
      ]
     },
     "execution_count": 7,
     "metadata": {},
     "output_type": "execute_result"
    }
   ],
   "source": [
    "df1.loc[2, 'column_2'] = \"TRK\"\n",
    "df1\n",
    "#print(df1['column_2'].mean()) will cause an error becuase of string variable"
   ]
  },
  {
   "cell_type": "markdown",
   "id": "473cc607-d5b6-4b61-b69a-292888c1024b",
   "metadata": {},
   "source": [
    "### Q6. What do you understand about the windows function in pandas and list the types of windows functions?"
   ]
  },
  {
   "cell_type": "markdown",
   "id": "15ebd105-cfa1-4f9d-8c18-2a4e8a780e75",
   "metadata": {},
   "source": [
    "Pandas window functions are functions where the input values are taken from a “window” of one or more rows in a series or a table and calculation is performed over them. Pandas supports 4 types of windowing operations:\n",
    "1. Rolling window: Generic fixed or variable sliding window over the values.\n",
    "2. Weighted window: Weighted, non-rectangular window supplied by the scipy.signal library.\n",
    "3. Expanding window: Accumulating window over the values.\n",
    "4. Exponentially Weighted window: Accumulating and exponentially weighted window over the values¹."
   ]
  },
  {
   "cell_type": "markdown",
   "id": "6f54275e-44cb-4c75-a8b1-f62ad8859167",
   "metadata": {},
   "source": [
    "### Q7. Write a code to print only the current month and year at the time of answering this question."
   ]
  },
  {
   "cell_type": "code",
   "execution_count": 8,
   "id": "063e15ab-0466-4168-9cac-74c47f7f4f61",
   "metadata": {},
   "outputs": [
    {
     "name": "stdout",
     "output_type": "stream",
     "text": [
      "Current month: 4\n",
      "Current year: 2023\n"
     ]
    }
   ],
   "source": [
    "from datetime import datetime\n",
    "\n",
    "now = datetime.now()\n",
    "current_month = now.month\n",
    "current_year = now.year\n",
    "\n",
    "print(\"Current month:\", current_month)\n",
    "print(\"Current year:\", current_year)"
   ]
  },
  {
   "cell_type": "markdown",
   "id": "8145e5f3-4267-405a-8bf6-1fc508f593e5",
   "metadata": {},
   "source": [
    "### Q8. Write a Python program that takes in two dates as input (in the format YYYY-MM-DD) and calculates the difference between them in days, hours, and minutes using Pandas time delta. The program should prompt the user to enter the dates and display the result."
   ]
  },
  {
   "cell_type": "code",
   "execution_count": 9,
   "id": "054004b2-5a50-486e-9a4f-f6a81e445404",
   "metadata": {},
   "outputs": [
    {
     "name": "stdin",
     "output_type": "stream",
     "text": [
      "Enter first date in YYYY-MM-DD format:  2022-01-31\n",
      "Enter second date in YYYY-MM-DD format:  2023-01-31\n"
     ]
    },
    {
     "name": "stdout",
     "output_type": "stream",
     "text": [
      "The difference between 2022-01-31 00:00:00 and 2023-01-31 00:00:00 is 365 days\n"
     ]
    }
   ],
   "source": [
    "date1 = input(\"Enter first date in YYYY-MM-DD format: \")\n",
    "date2 = input(\"Enter second date in YYYY-MM-DD format: \")\n",
    "\n",
    "date1 = pd.to_datetime(date1)\n",
    "date2 = pd.to_datetime(date2)\n",
    "\n",
    "delta = date2 - date1\n",
    "\n",
    "print(f\"The difference between {date1} and {date2} is {delta.days} days\")"
   ]
  },
  {
   "cell_type": "markdown",
   "id": "7f0022a2-47bb-4e20-ae9a-4dcf5e9f439c",
   "metadata": {},
   "source": [
    "### Q9. Write a Python program that reads a CSV file containing categorical data and converts a specified column to a categorical data type. The program should prompt the user to enter the file path, column name, and category order, and then display the sorted data."
   ]
  },
  {
   "cell_type": "markdown",
   "id": "086db819-b24a-4f2d-957b-bab8dab52234",
   "metadata": {},
   "source": [
    "```python\n",
    "import pandas as pd\n",
    "\n",
    "file_path = input(\"Enter file path: \")\n",
    "df = pd.read_csv(file_path)\n",
    "\n",
    "col_name = input(\"Enter column name: \")\n",
    "cat_order = input(\"Enter category order (comma-separated): \")\n",
    "cat_order = cat_order.split(\",\")\n",
    "df[col_name] = pd.Categorical(df[col_name], categories=cat_order)\n",
    "\n",
    "print(df.sort_values(col_name))\n",
    "```"
   ]
  },
  {
   "cell_type": "markdown",
   "id": "7512b85a-e396-4575-9a51-d844a7298cd8",
   "metadata": {},
   "source": [
    "### Q10. Write a Python program that reads a CSV file containing sales data for different products and visualizes the data using a stacked bar chart to show the sales of each product category over time. The program should prompt the user to enter the file path and display the chart."
   ]
  },
  {
   "cell_type": "markdown",
   "id": "05da765c-0f70-4685-abcb-a8eba3e02a3e",
   "metadata": {},
   "source": [
    "```python\n",
    "import matplotlib.pyplot as plt\n",
    "\n",
    "file_path = input(\"Enter file path: \")\n",
    "df = pd.read_csv(file_path)\n",
    "\n",
    "# Create a pivot table to aggregate sales data by product category and date\n",
    "pivot_table = df.pivot_table(index='Date', columns='Product Category', values='Sales', aggfunc='sum')\n",
    "\n",
    "# Create stacked bar chart\n",
    "pivot_table.plot(kind='bar', stacked=True)\n",
    "plt.show()\n",
    "```"
   ]
  },
  {
   "cell_type": "markdown",
   "id": "41a6fdd7-85fb-4a5d-84c8-48678d92167f",
   "metadata": {},
   "source": [
    "### Q11. You are given a CSV file containing student data that includes the student ID and their test score. Write a Python program that reads the CSV file, calculates the mean, median, and mode of the test scores, and displays the results in a table. \n",
    "\n",
    "The program should do the following:\n",
    "\n",
    "- I Prompt the user to enter the file path of the CSV file containing the student dataR\n",
    "- I Read the CSV file into a Pandas DataFrameR\n",
    "- I Calculate the mean, median, and mode of the test scores using Pandas toolsR\n",
    "- I Display the mean, median, and mode in a table.\n",
    "\n",
    "Assume the CSV file contains the following columns:\n",
    "\n",
    "- I Student ID: The ID of the studentR\n",
    "- I Test Score: The score of the student's test.\n",
    "\n",
    "Example usage of the program:<br>\n",
    "Enter the file path of the CSV file containing the student data: student_data.csv\n",
    "\n",
    "+-----------+--------+<br>\n",
    "| Statistic | Value |<br>\n",
    "+-----------+--------+<br>\n",
    "| Mean | 79.6 |<br>\n",
    "| Median | 82 |<br>\n",
    "| Mode | 85, 90 |<br>\n",
    "+-----------+--------+<br>\n",
    "\n",
    "Assume that the CSV file student_data.csv contains the following data:<br>\n",
    "Student ID,Test Score\n",
    "\n",
    "1,85<br>\n",
    "2,90<br>\n",
    "3,80<br>\n",
    "4,75<br>\n",
    "5,85<br>\n",
    "6,82<br>\n",
    "7,78<br>\n",
    "8,85<br>\n",
    "9,90<br>\n",
    "10,85<br>\n",
    "\n",
    "The program should calculate the mean, median, and mode of the test scores and display the results\n",
    "in a table."
   ]
  },
  {
   "cell_type": "code",
   "execution_count": 10,
   "id": "402cde8c-1d5b-459d-bb94-5b9848336a67",
   "metadata": {},
   "outputs": [
    {
     "name": "stdin",
     "output_type": "stream",
     "text": [
      "Enter file path of CSV file containing student data:  student_data.csv\n"
     ]
    },
    {
     "name": "stdout",
     "output_type": "stream",
     "text": [
      "+-----------+--------+\n",
      "| Statistic | Value  |\n",
      "+-----------+--------+\n",
      "| Mean      | 83.5   |\n",
      "| Median    | 85     |\n",
      "| Mode      | 85     |\n",
      "+-----------+--------+\n"
     ]
    }
   ],
   "source": [
    "file_path = input(\"Enter file path of CSV file containing student data: \")\n",
    "df = pd.read_csv(file_path)\n",
    "\n",
    "# mean\n",
    "mean = df['Test Score'].mean()\n",
    "\n",
    "# medain\n",
    "median = df['Test Score'].median()\n",
    "\n",
    "# mode\n",
    "mode = df['Test Score'].mode()\n",
    "\n",
    "print(\"+-----------+--------+\")\n",
    "print(\"| Statistic | Value  |\")\n",
    "print(\"+-----------+--------+\")\n",
    "print(\"| Mean      |\", round(mean, 1), \"  |\")\n",
    "print(\"| Median    |\", int(median), \"    |\")\n",
    "print(\"| Mode      |\", \", \".join(str(x) for x in mode), \"    |\")\n",
    "print(\"+-----------+--------+\")"
   ]
  }
 ],
 "metadata": {
  "kernelspec": {
   "display_name": "Python 3 (ipykernel)",
   "language": "python",
   "name": "python3"
  },
  "language_info": {
   "codemirror_mode": {
    "name": "ipython",
    "version": 3
   },
   "file_extension": ".py",
   "mimetype": "text/x-python",
   "name": "python",
   "nbconvert_exporter": "python",
   "pygments_lexer": "ipython3",
   "version": "3.10.8"
  }
 },
 "nbformat": 4,
 "nbformat_minor": 5
}
