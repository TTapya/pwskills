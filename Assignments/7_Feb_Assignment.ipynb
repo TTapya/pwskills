{
 "cells": [
  {
   "cell_type": "markdown",
   "id": "bc695c85",
   "metadata": {},
   "source": [
    "<h1><center>Assignment</center></h1>"
   ]
  },
  {
   "cell_type": "markdown",
   "id": "f0f763f9",
   "metadata": {},
   "source": [
    "### Q1. You are writing code for a company. The requirement of the company is that you create a python function that will check whether the password entered by the user is correct or not. The function should take the password as input and return the string “Valid Password” if the entered password follows the below-given password guidelines else it should return “Invalid Password”.\n",
    "\n",
    "Note: \n",
    "1. The Password should contain at least two uppercase letters and at least two lowercase letters.\n",
    "2. The Password should contain at least a number and three special characters.\n",
    "3. The length of the password should be 10 characters long."
   ]
  },
  {
   "cell_type": "code",
   "execution_count": 26,
   "id": "edfb0ada",
   "metadata": {},
   "outputs": [
    {
     "name": "stdout",
     "output_type": "stream",
     "text": [
      "Invalid Password\n",
      "Valid Password\n"
     ]
    }
   ],
   "source": [
    "def pass_validator(pwd):\n",
    "    low_count = 0\n",
    "    up_count = 0\n",
    "    num_count = 0\n",
    "    special_count = 0\n",
    "    spl =  \"_@#$&_-\"\n",
    "    if len(pwd)<10:\n",
    "        return \"Invalid Password\"\n",
    "    else:\n",
    "        for c in pwd:\n",
    "            if c.isalpha():\n",
    "                if c.islower():\n",
    "                    low_count += 1\n",
    "                else:\n",
    "                    up_count += 1\n",
    "            elif c.isdigit():\n",
    "                num_count += 1\n",
    "            elif c in spl:\n",
    "                special_count += 1 \n",
    "    if low_count >= 2 and up_count >= 2 and num_count >= 1 and special_count >= 3:\n",
    "        return \"Valid Password\"\n",
    "    else:\n",
    "        return \"Invalid Password\"\n",
    "\n",
    "print(pass_validator(\"ABCb@#$1234\"))\n",
    "print(pass_validator(\"ABCbfg@#$1234\"))"
   ]
  },
  {
   "cell_type": "markdown",
   "id": "c2361a1b",
   "metadata": {},
   "source": [
    "### Q2. Solve the below-given questions using at least one of the following:\n",
    "\n",
    "1. Lambda function\n",
    "2. Filter function\n",
    "3. Map function\n",
    "4. List Comprehension\n",
    "\n",
    "- Check if the string starts with a particular letter.\n",
    "- Check if the string is numeric.\n",
    "- Sort a list of tuples having fruit names and their quantity. [(\"mango\",99),(\"orange\",80), (\"grapes\", 1000)]\n",
    "- Find the squares of numbers from 1 to 10.\n",
    "- Find the cube root of numbers from 1 to 10.\n",
    "- Check if a given number is even.\n",
    "- Filter odd numbers from the given list.\n",
    "[1,2,3,4,5,6,7,8,9,10]\n",
    "- Sort a list of integers into positive and negative integers lists.\n",
    "[1,2,3,4,5,6,-1,-2,-3,-4,-5,0]"
   ]
  },
  {
   "cell_type": "markdown",
   "id": "f467cb6a",
   "metadata": {},
   "source": [
    "#### Check if the string starts with a particular letter"
   ]
  },
  {
   "cell_type": "code",
   "execution_count": 6,
   "id": "38fa36a4",
   "metadata": {},
   "outputs": [
    {
     "name": "stdout",
     "output_type": "stream",
     "text": [
      "absolute starts with a\n",
      "Impure does not start with a\n"
     ]
    }
   ],
   "source": [
    "string = \"absolute\"\n",
    "checking_for_a = lambda s : f\"{s} starts with a\" if s[0] == 'a' else f\"{s} does not start with a\"\n",
    "print(checking_for_a(string))\n",
    "print(checking_for_a(\"Impure\"))"
   ]
  },
  {
   "cell_type": "markdown",
   "id": "f050080f",
   "metadata": {},
   "source": [
    "#### Check if the string is numeric"
   ]
  },
  {
   "cell_type": "code",
   "execution_count": 31,
   "id": "25ba300f",
   "metadata": {},
   "outputs": [
    {
     "name": "stdout",
     "output_type": "stream",
     "text": [
      "True\n"
     ]
    }
   ],
   "source": [
    "num_check = lambda s : s.isnumeric()\n",
    "print(num_check(\"007\"))"
   ]
  },
  {
   "cell_type": "code",
   "execution_count": 28,
   "id": "1621dab6",
   "metadata": {},
   "outputs": [],
   "source": [
    "for x in filtered:\n",
    "    print(x)"
   ]
  },
  {
   "cell_type": "code",
   "execution_count": 32,
   "id": "1935c291",
   "metadata": {},
   "outputs": [
    {
     "name": "stdout",
     "output_type": "stream",
     "text": [
      "<class 'str'>\n",
      "<class 'str'>\n",
      "<class 'str'>\n",
      "<class 'str'>\n",
      "<class 'str'>\n"
     ]
    }
   ],
   "source": [
    "for i in string:\n",
    "    "
   ]
  },
  {
   "cell_type": "code",
   "execution_count": 2,
   "id": "89edd3cd",
   "metadata": {},
   "outputs": [],
   "source": [
    "import re\n",
    "\n",
    "urls = '''\n",
    "https://www.google.com\n",
    "http://coreyms.com\n",
    "https://youtube.com\n",
    "https://www.nasa.gov\n",
    "'''"
   ]
  },
  {
   "cell_type": "code",
   "execution_count": 11,
   "id": "403b5918",
   "metadata": {},
   "outputs": [
    {
     "name": "stdout",
     "output_type": "stream",
     "text": [
      "google\n",
      "coreyms\n",
      "youtube\n",
      "nasa\n"
     ]
    }
   ],
   "source": [
    "pattern = re.compile(r'https?://(www\\.)?(\\w+)(\\.\\w+)')\n",
    "\n",
    "matches = pattern.finditer(urls)\n",
    "\n",
    "for match in matches:\n",
    "    print(match.group(2))"
   ]
  },
  {
   "cell_type": "markdown",
   "id": "5fb27e23",
   "metadata": {},
   "source": [
    "#### Sort a list of tuples having fruit names and their quantity. [(\"mango\",99),(\"orange\",80), (\"grapes\", 1000)]"
   ]
  },
  {
   "cell_type": "code",
   "execution_count": 41,
   "id": "f1483a31",
   "metadata": {},
   "outputs": [],
   "source": [
    "l = [(\"mango\",99),(\"orange\",80), (\"grapes\", 1000)]"
   ]
  },
  {
   "cell_type": "code",
   "execution_count": 42,
   "id": "b0b58268",
   "metadata": {},
   "outputs": [
    {
     "name": "stdout",
     "output_type": "stream",
     "text": [
      "[('grapes', 1000), ('mango', 99), ('orange', 80)]\n"
     ]
    }
   ],
   "source": [
    "l.sort(key = lambda x : x[0]) # sorting by alphabets\n",
    "print(l)"
   ]
  },
  {
   "cell_type": "code",
   "execution_count": 43,
   "id": "f705a9af",
   "metadata": {},
   "outputs": [
    {
     "name": "stdout",
     "output_type": "stream",
     "text": [
      "[('orange', 80), ('mango', 99), ('grapes', 1000)]\n"
     ]
    }
   ],
   "source": [
    "l.sort(key = lambda x : x[1]) # sorting by numbers\n",
    "print(l)"
   ]
  },
  {
   "cell_type": "markdown",
   "id": "da7d31dd",
   "metadata": {},
   "source": [
    "#### Find the squares of numbers from 1 to 10"
   ]
  },
  {
   "cell_type": "code",
   "execution_count": 44,
   "id": "8bdd7c80",
   "metadata": {},
   "outputs": [
    {
     "name": "stdout",
     "output_type": "stream",
     "text": [
      "[1, 4, 9, 16, 25, 36, 49, 64, 81, 100]\n"
     ]
    }
   ],
   "source": [
    "squares = [(i+1)**2 for i in range(10)]\n",
    "print(squares)"
   ]
  },
  {
   "cell_type": "markdown",
   "id": "81401b17",
   "metadata": {},
   "source": [
    "#### Find the cube root of numbers from 1 to 10"
   ]
  },
  {
   "cell_type": "code",
   "execution_count": 46,
   "id": "21212b77",
   "metadata": {},
   "outputs": [
    {
     "name": "stdout",
     "output_type": "stream",
     "text": [
      "[1.0, 0.125, 0.037037037037037035, 0.015625, 0.008, 0.004629629629629629, 0.0029154518950437317, 0.001953125, 0.0013717421124828531, 0.001]\n"
     ]
    }
   ],
   "source": [
    "cube_roots = [(i+1)**(-3) for i in range(10)]\n",
    "print(cube_roots)"
   ]
  },
  {
   "cell_type": "markdown",
   "id": "75e068ba",
   "metadata": {},
   "source": [
    "#### Check if a given number is even"
   ]
  },
  {
   "cell_type": "code",
   "execution_count": 52,
   "id": "027e7fb4",
   "metadata": {},
   "outputs": [
    {
     "name": "stdout",
     "output_type": "stream",
     "text": [
      "Even\n",
      "Odd\n"
     ]
    }
   ],
   "source": [
    "even_checker = lambda num : \"Even\" if num % 2 == 0 else \"Odd\"\n",
    "print(even_checker(202))\n",
    "print(even_checker(313))"
   ]
  },
  {
   "cell_type": "markdown",
   "id": "414c876d",
   "metadata": {},
   "source": [
    "#### Filter odd numbers from the given list:\n",
    "[1,2,3,4,5,6,7,8,9,10]"
   ]
  },
  {
   "cell_type": "code",
   "execution_count": 55,
   "id": "0631b88d",
   "metadata": {},
   "outputs": [
    {
     "name": "stdout",
     "output_type": "stream",
     "text": [
      "[1, 3, 5, 7, 9]\n"
     ]
    }
   ],
   "source": [
    "nums = [1,2,3,4,5,6,7,8,9,10]\n",
    "odd_filter = lambda n : True if n % 2 != 0 else False\n",
    "odd_nums = list(filter(odd_filter, nums))\n",
    "print(odd_nums)"
   ]
  },
  {
   "cell_type": "markdown",
   "id": "2c706e14",
   "metadata": {},
   "source": [
    "#### Sort a list of integers into positive and negative integers lists: \n",
    "\n",
    "[1,2,3,4,5,6,-1,-2,-3,-4,-5,0]"
   ]
  },
  {
   "cell_type": "code",
   "execution_count": 56,
   "id": "56028cf4",
   "metadata": {},
   "outputs": [
    {
     "name": "stdout",
     "output_type": "stream",
     "text": [
      "[1, 2, 3, 4, 5, 6]\n",
      "[-1, -2, -3, -4, -5]\n"
     ]
    }
   ],
   "source": [
    "l = [1,2,3,4,5,6,-1,-2,-3,-4,-5,0]\n",
    "positive_filter = lambda n : True if n > 0 else False\n",
    "negative_filter = lambda n : True if n < 0 else False\n",
    "positive_nums = list(filter(positive_filter, l))\n",
    "negative_nums = list(filter(negative_filter, l))\n",
    "print(positive_nums)\n",
    "print(negative_nums)"
   ]
  }
 ],
 "metadata": {
  "kernelspec": {
   "display_name": "Python 3",
   "language": "python",
   "name": "python3"
  },
  "language_info": {
   "codemirror_mode": {
    "name": "ipython",
    "version": 3
   },
   "file_extension": ".py",
   "mimetype": "text/x-python",
   "name": "python",
   "nbconvert_exporter": "python",
   "pygments_lexer": "ipython3",
   "version": "3.8.8"
  }
 },
 "nbformat": 4,
 "nbformat_minor": 5
}
