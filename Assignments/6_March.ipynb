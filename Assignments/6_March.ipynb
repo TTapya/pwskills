{
 "cells": [
  {
   "cell_type": "markdown",
   "id": "1cb266b7-3b7c-4c55-b207-03ea47b9eff1",
   "metadata": {},
   "source": [
    "<h1><center>Assignment</center></h1>"
   ]
  },
  {
   "cell_type": "markdown",
   "id": "a3d7846b-f697-469b-b58f-4ee9b1822e4e",
   "metadata": {},
   "source": [
    "### Q1. What is Statistics?"
   ]
  },
  {
   "cell_type": "markdown",
   "id": "5aa9ed47-9947-46a9-88d6-5520b4d3f177",
   "metadata": {},
   "source": [
    "Statistics is the branch of mathematics that deals with collecting, analyzing, presenting, and interpreting data. Statistics can be used to make decisions based on data, to describe the characteristics of a population or a sample, and to infer the properties of a population from a sample."
   ]
  },
  {
   "cell_type": "markdown",
   "id": "8f495f00-d72d-4e62-98fa-78b46de9afd0",
   "metadata": {},
   "source": [
    "### Q2. Define the different types of statistics and give an example of when each type might be used."
   ]
  },
  {
   "cell_type": "markdown",
   "id": "9c0b6d43-6e2b-4645-8856-47222d23b189",
   "metadata": {},
   "source": [
    "There are two main types of statistics: descriptive and inferential.\n",
    "\n",
    "Descriptive statistics uses the data to provide summaries, graphs, tables, or numerical measures of the data. Descriptive statistics can be used to describe the features of a dataset, such as the mean, median, mode, range, standard deviation, frequency distribution, etc. For example, descriptive statistics can be used to report the average age, income, and education level of a sample of voters in an election.\n",
    "\n",
    "Inferential statistics uses the data from a sample to make predictions or generalizations about a population. Inferential statistics can be used to test hypotheses, estimate parameters, compare groups, or assess relationships among variables. For example, inferential statistics can be used to determine whether there is a significant difference between the mean test scores of two groups of students who received different teaching methods."
   ]
  },
  {
   "cell_type": "markdown",
   "id": "1b7e0b6b-cf9e-4828-9577-511c05d939c5",
   "metadata": {},
   "source": [
    "### Q3. What are the different types of data and how do they differ from each other? Provide an example of each type of data."
   ]
  },
  {
   "cell_type": "markdown",
   "id": "db9cf27f-36fe-4d7b-b5cb-70763bb8a2dc",
   "metadata": {},
   "source": [
    "Data can be classified into two main types: quantitative and qualitative.\n",
    "\n",
    "Quantitative data are numerical data that measure how much or how many of something. Quantitative data can be further divided into discrete and continuous data. Discrete data are data that can only take certain values, such as whole numbers or categories. Continuous data are data that can take any value within a range, such as fractions or decimals. For example, quantitative data can be the number of books sold by a bookstore (discrete) or the weight of a person(continuous).\n",
    "\n",
    "Qualitative data are categorical data that describe the quality or nature of something. Qualitative data can be further divided into nominal and ordinal data. Nominal data are data that have no inherent order or ranking, such as names or colors. Ordinal data are data that have some order or ranking, such as grades or ratings. For example, qualitative data can be the gender of a person (nominal) or the satisfaction level of a customer(ordinal)."
   ]
  },
  {
   "cell_type": "markdown",
   "id": "44494102-0c2a-4d26-a62b-a87eb8e22ae0",
   "metadata": {},
   "source": [
    "### Q4. Categorise the following datasets with respect to quantitative and qualitative data types:\n",
    "1. Grading in exam: A+, A, B+, B, C+, C, D, E\n",
    "2. Colour of mangoes: yellow, green, orange, red\n",
    "3. Height data of a class: [178.9, 179, 179.5, 176, 177.2, 178.3, 175.8,...]\n",
    "4. Number of mangoes exported by a farm: [500, 600, 478, 672, ...]"
   ]
  },
  {
   "cell_type": "markdown",
   "id": "d830ab64-1b2f-4eb1-8b7b-5876d1cd6525",
   "metadata": {},
   "source": [
    "1. Grading in exam: A+, A, B+, B, C+, C, D, E - Qualitative data (Ordinal)\n",
    "\n",
    "2. Colour of mangoes: yellow, green, orange, red - Qualitative data (Nominal)\n",
    "\n",
    "3. Height data of a class: [178.9, 179, 179.5, 176, 177.2, 178.3, 175.8,…] - Quantitative data (Continous)\n",
    "\n",
    "4. Number of mangoes exported by a farm: [500, 600, 478, 672, …] - Quantitative data (Discrete)"
   ]
  },
  {
   "cell_type": "markdown",
   "id": "a068ba39-8ea2-4f81-9166-872a27516e3b",
   "metadata": {},
   "source": [
    "### Q5. Explain the concept of levels of measurement and give an example of a variable for each level."
   ]
  },
  {
   "cell_type": "markdown",
   "id": "65fd6b55-b976-4ddf-abc9-b55cf0869c43",
   "metadata": {},
   "source": [
    "Levels of measurement refer to the types of data that can be collected. There are four levels of measurement: nominal, ordinal, interval, and ratio. Nominal data is used to label variables without any quantitative value. An example of nominal data is gender. Ordinal data is used to label variables with some order. An example of ordinal data is a ranking system for a competition. Interval data is used to measure variables with a specific unit of measurement. An example of interval data is temperature measured in Celsius or Fahrenheit. Ratio data is used to measure variables with a specific unit of measurement and has a true zero point. An example of ratio data is weight measured in kilograms or pounds."
   ]
  },
  {
   "cell_type": "markdown",
   "id": "5d8b4343-18ba-496d-a947-bf5b9abd123d",
   "metadata": {},
   "source": [
    "### Q6. Why is it important to understand the level of measurement when analyzing data? Provide an example to illustrate your answer."
   ]
  },
  {
   "cell_type": "markdown",
   "id": "c654613d-8d3d-4721-8a4c-6720ab37e7d0",
   "metadata": {},
   "source": [
    "It’s important to understand the level of measurement when analyzing data because it determines what statistical analysis can be performed on the data. For example, nominal data can only be analyzed using frequency counts and percentages while interval and ratio data can be analyzed using more advanced statistical techniques such as regression analysis."
   ]
  },
  {
   "cell_type": "markdown",
   "id": "2a86ee6d-4732-460c-8567-4757178ac8db",
   "metadata": {},
   "source": [
    "### Q7. How nominal data type is different from ordinal data type."
   ]
  },
  {
   "cell_type": "markdown",
   "id": "83f8a71b-ed3a-4518-9928-2e5a04052843",
   "metadata": {},
   "source": [
    "Nominal data type is different from ordinal data type because nominal data does not have any order or ranking while ordinal data has some order or ranking."
   ]
  },
  {
   "cell_type": "markdown",
   "id": "9c851769-e642-4a4a-aed3-8ec3f5f1318e",
   "metadata": {},
   "source": [
    "### Q8. Which type of plot can be used to display data in terms of range?"
   ]
  },
  {
   "cell_type": "markdown",
   "id": "74062523-0859-43fa-bd3c-b78bcca03c07",
   "metadata": {},
   "source": [
    "A box plot can be used to display data in terms of range."
   ]
  },
  {
   "cell_type": "markdown",
   "id": "4493c88d-224a-4b26-8153-fd312feed082",
   "metadata": {},
   "source": [
    "### Q9. Describe the difference between descriptive and inferential statistics. Give an example of each type of statistics and explain how they are used."
   ]
  },
  {
   "cell_type": "markdown",
   "id": "f14f2afa-946e-435f-9123-7ceae1005253",
   "metadata": {},
   "source": [
    "Descriptive statistics are used to describe the basic features of the data in a study while inferential statistics are used to make inferences about a larger population based on a sample of the population."
   ]
  },
  {
   "cell_type": "markdown",
   "id": "6b916018-2cfc-4c78-ae69-5d6cef31b478",
   "metadata": {},
   "source": [
    "### Q10. What are some common measures of central tendency and variability used in statistics? Explain how each measure can be used to describe a dataset."
   ]
  },
  {
   "cell_type": "markdown",
   "id": "3f185c3b-bd64-4c55-bfd3-63a117614902",
   "metadata": {},
   "source": [
    "Some common measures of central tendency and variability used in statistics are mean, median, mode, range, variance, and standard deviation. Mean is used to describe the average value of a dataset while median is used to describe the middle value of a dataset. Mode is used to describe the most frequently occurring value in a dataset. Range is used to describe the difference between the highest and lowest values in a dataset. Variance and standard deviation are used to describe how spread out the values in a dataset are from the mean."
   ]
  }
 ],
 "metadata": {
  "kernelspec": {
   "display_name": "Python 3 (ipykernel)",
   "language": "python",
   "name": "python3"
  },
  "language_info": {
   "codemirror_mode": {
    "name": "ipython",
    "version": 3
   },
   "file_extension": ".py",
   "mimetype": "text/x-python",
   "name": "python",
   "nbconvert_exporter": "python",
   "pygments_lexer": "ipython3",
   "version": "3.10.8"
  }
 },
 "nbformat": 4,
 "nbformat_minor": 5
}
