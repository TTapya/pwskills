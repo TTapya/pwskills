{
 "cells": [
  {
   "cell_type": "markdown",
   "id": "25588847",
   "metadata": {},
   "source": [
    "<h1><center>Assignment</center></h1>"
   ]
  },
  {
   "cell_type": "markdown",
   "id": "91e3c553",
   "metadata": {},
   "source": [
    "### Q-1) Which keyword is used to create a function? Create a function to return a list of odd numbers in the range of 1 to 25."
   ]
  },
  {
   "cell_type": "markdown",
   "id": "49b2bdcf",
   "metadata": {},
   "source": [
    "<b>def</b> is the keyword which is used for creating a function in python."
   ]
  },
  {
   "cell_type": "code",
   "execution_count": 1,
   "id": "8bde06b5",
   "metadata": {},
   "outputs": [
    {
     "name": "stdout",
     "output_type": "stream",
     "text": [
      "[1, 3, 5, 7, 9, 11, 13, 15, 17, 19, 21, 23, 25]\n"
     ]
    }
   ],
   "source": [
    "def odd_nums():\n",
    "    l = list(range(1, 26))\n",
    "    for num in l:\n",
    "        if num%2==0:\n",
    "            l.remove(num)\n",
    "    return l\n",
    "\n",
    "print(odd_nums())"
   ]
  },
  {
   "cell_type": "markdown",
   "id": "261d60c1",
   "metadata": {},
   "source": [
    "### Q-2) Why $*$args and $**$kwargs is used in some functions? Create a function each for $*$args and $**$kwargs to demonstrate their use."
   ]
  },
  {
   "cell_type": "markdown",
   "id": "86550482",
   "metadata": {},
   "source": [
    "In Python, we can pass a variable number of arguments to a function using special symbols. There are two special symbols:\n",
    "\n",
    "- $*$<b>args</b> (Non Keyword Arguments): Iterable is a <b>tuple</b><br>\n",
    "- $**$<b>kwargs</b> (Keyword Arguments): Iterable is a <b>dict</b>\n",
    "\n",
    "Note: args and kwargs are just names and can be changed as shown in the examples."
   ]
  },
  {
   "cell_type": "code",
   "execution_count": 2,
   "id": "352a15c5",
   "metadata": {},
   "outputs": [
    {
     "name": "stdout",
     "output_type": "stream",
     "text": [
      "<class 'tuple'>\n",
      "6\n"
     ]
    }
   ],
   "source": [
    "def my_sum(*integers):\n",
    "    result = 0\n",
    "    print(type(integers)) # iterable is a tuple\n",
    "    for x in integers:\n",
    "        result += x\n",
    "    return result\n",
    "\n",
    "print(my_sum(1, 2, 3))"
   ]
  },
  {
   "cell_type": "code",
   "execution_count": 3,
   "id": "63f1f82b",
   "metadata": {},
   "outputs": [
    {
     "name": "stdout",
     "output_type": "stream",
     "text": [
      "<class 'dict'>\n",
      "IAmTheBest!\n"
     ]
    }
   ],
   "source": [
    "def join(**words):\n",
    "    result = \"\"\n",
    "    print(type(words)) # as the type of iterable is a dictionary, we have to use values() to get the arguments\n",
    "    for arg in words.values():\n",
    "        result += arg\n",
    "    return result\n",
    "\n",
    "print(join(a=\"I\", b=\"Am\", c=\"The\", d=\"Best\", e=\"!\"))"
   ]
  },
  {
   "cell_type": "markdown",
   "id": "c9a3605e",
   "metadata": {},
   "source": [
    "### Q-3) What is an iterator in python? Name the method used to initialise the iterator object and the method used for iteration. Use these methods to print the first five elements of the given list [2, 4, 6, 8, 10, 12, 14, 16, 18, 20]."
   ]
  },
  {
   "cell_type": "markdown",
   "id": "942eb6f6",
   "metadata": {},
   "source": [
    "An iterator is an object that can be iterated upon, meaning that you can traverse through all the values. <b>iter()</b> method is used to initialize an iterator."
   ]
  },
  {
   "cell_type": "code",
   "execution_count": 4,
   "id": "32cd6472",
   "metadata": {},
   "outputs": [
    {
     "name": "stdout",
     "output_type": "stream",
     "text": [
      "2\n",
      "4\n",
      "6\n",
      "8\n",
      "10\n"
     ]
    }
   ],
   "source": [
    "l = [2, 4, 6, 8, 10, 12, 14, 16, 18, 20]\n",
    "iterator = iter(l)\n",
    "\n",
    "print(next(iterator))\n",
    "print(next(iterator))\n",
    "print(next(iterator))\n",
    "print(next(iterator))\n",
    "print(next(iterator))"
   ]
  },
  {
   "cell_type": "markdown",
   "id": "8164482c",
   "metadata": {},
   "source": [
    "### Q-4) What is a generator function in python? Why yield keyword is used? Give an example of a generator function."
   ]
  },
  {
   "cell_type": "markdown",
   "id": "616998b5",
   "metadata": {},
   "source": [
    "<b>Generator functions</b> are a special kind of function that return a lazy iterator. These are objects that you can loop over like a list. However, unlike lists, lazy iterators do not store their contents in memory. \n",
    "\n",
    "The primary job of <b>yield</b> is to control the flow of a generator function in a way that’s similar to return statements.\n",
    "When the Python yield statement is hit, the program suspends function execution and returns the yielded value to the caller. (In contrast, return stops function execution completely.) When a function is suspended, the state of that function is saved."
   ]
  },
  {
   "cell_type": "code",
   "execution_count": 5,
   "id": "0d909e58",
   "metadata": {},
   "outputs": [
    {
     "name": "stdout",
     "output_type": "stream",
     "text": [
      "<class 'generator'>\n",
      "0\n",
      "1\n",
      "2\n",
      "3\n",
      "4\n"
     ]
    }
   ],
   "source": [
    "def infinite_sequence():\n",
    "    num=0\n",
    "    while True:\n",
    "        yield num\n",
    "        num += 1\n",
    "        \n",
    "gen = infinite_sequence()\n",
    "print(type(gen))\n",
    "\n",
    "print(next(gen))\n",
    "print(next(gen))\n",
    "print(next(gen))\n",
    "print(next(gen))\n",
    "print(next(gen))"
   ]
  },
  {
   "cell_type": "markdown",
   "id": "f2e7f32d",
   "metadata": {},
   "source": [
    "### Q-5) Create a generator function for prime numbers less than 1000. Use the next() method to print the first 20 prime numbers."
   ]
  },
  {
   "cell_type": "code",
   "execution_count": 6,
   "id": "e76ea220",
   "metadata": {},
   "outputs": [],
   "source": [
    "from math import sqrt\n",
    "def prime():\n",
    "    for n in range(2,1000):\n",
    "        isPrime = True\n",
    "        if(n > 1):\n",
    "            for i in range(2, int(sqrt(n)) + 1):\n",
    "                if (n % i == 0):\n",
    "                    isPrime = False\n",
    "            if (isPrime == True):\n",
    "                yield n"
   ]
  },
  {
   "cell_type": "code",
   "execution_count": 7,
   "id": "4c8c627a",
   "metadata": {},
   "outputs": [],
   "source": [
    "gen = prime()"
   ]
  },
  {
   "cell_type": "code",
   "execution_count": 8,
   "id": "0dd9587e",
   "metadata": {},
   "outputs": [
    {
     "name": "stdout",
     "output_type": "stream",
     "text": [
      "2\n",
      "3\n",
      "5\n",
      "7\n",
      "11\n",
      "13\n",
      "17\n"
     ]
    }
   ],
   "source": [
    "print(next(gen))\n",
    "print(next(gen))\n",
    "print(next(gen))\n",
    "print(next(gen))\n",
    "print(next(gen))\n",
    "print(next(gen))\n",
    "print(next(gen))"
   ]
  }
 ],
 "metadata": {
  "kernelspec": {
   "display_name": "Python 3",
   "language": "python",
   "name": "python3"
  },
  "language_info": {
   "codemirror_mode": {
    "name": "ipython",
    "version": 3
   },
   "file_extension": ".py",
   "mimetype": "text/x-python",
   "name": "python",
   "nbconvert_exporter": "python",
   "pygments_lexer": "ipython3",
   "version": "3.8.8"
  }
 },
 "nbformat": 4,
 "nbformat_minor": 5
}
