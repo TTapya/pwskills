{
 "cells": [
  {
   "cell_type": "markdown",
   "id": "7c81736a-b70f-4d1e-9fd8-039781fbddbc",
   "metadata": {},
   "source": [
    "<h1><center>Assignment</center></h1>"
   ]
  },
  {
   "cell_type": "markdown",
   "id": "2e38efa6-33cc-4465-8bcb-005f8fed9ff1",
   "metadata": {},
   "source": [
    "### Q1. What are the three measures of central tendency? "
   ]
  },
  {
   "cell_type": "markdown",
   "id": "d4f0b518-5020-40bf-9b46-5de2d410c3a1",
   "metadata": {},
   "source": [
    "The three measures of central tendency are mean, median and mode. Mean is the sum of all values in a dataset divided by the number of values in the dataset. Median is the middle value in a dataset when it is arranged in ascending or descending order. Mode is the value that appears most frequently in a dataset."
   ]
  },
  {
   "cell_type": "markdown",
   "id": "582d746c-1cf9-44a3-b66d-d12feafb6cec",
   "metadata": {},
   "source": [
    "### Q2. What is the difference between the mean, median, and mode? How are they used to measure the central tendency of a dataset? \n",
    "\n",
    "Mean is the average value of a dataset and is calculated by adding up all the values in a dataset and dividing by the number of values in the dataset. Median is the middle value of a dataset when it is arranged in ascending or descending order. Mode is the value that appears most frequently in a dataset. These measures are used to measure central tendency of a dataset.\n",
    "\n",
    "### Q3. Measure the three measures of central tendency for the given height data: [178,177,176,177,178.2,178,175,179,180,175,178.9,176.2,177,172.5,178,176.5] \n",
    "\n",
    "The three measures of central tendency for the given height data are:\n",
    "- Mean = 177.5\n",
    "- Median = 177\n",
    "- Mode = 178\n",
    "\n",
    "### Q4. Find the standard deviation for the given data: [178,177,176,177,178.2,178,175,179,180,175,178.9,176.2,177,172.5,178,176.5] \n",
    "\n",
    "The standard deviation for the given data is 1.979.\n",
    "\n",
    "### Q5. How are measures of dispersion such as range, variance, and standard deviation used to describe the spread of a dataset? Provide an example. \n",
    "\n",
    "Measures of dispersion such as range, variance, and standard deviation are used to describe the spread of a dataset. Range is the difference between the maximum and minimum values in a dataset. Variance measures how far each number in a set is from the mean of that set. Standard deviation measures how much variation there is from the mean value of a dataset.\n",
    "\n",
    "For example, if we have two datasets A and B with mean values 10 and 20 respectively, then we can say that Dataset B has more spread than Dataset A because its standard deviation is higher than Dataset A.\n",
    "\n",
    "### Q6. What is a Venn diagram? \n",
    "\n",
    "A Venn diagram is a graphical representation of sets that shows all possible logical relations between them.\n",
    "\n",
    "### Q7. For the two given sets A = (2,3,4,5,6,7) & B = (0,2,6,8,10). Find: (i) A ⋂ B (ii) A ⋃ B \n",
    "\n",
    "1. A ⋂ B = {2,6}\n",
    "2. A ⋃ B = {0,2,3,4,5,6,7,8,10}\n",
    "\n",
    "### Q8. What do you understand about skewness in data? \n",
    "\n",
    "Skewness refers to asymmetry or lack of symmetry in a probability distribution.\n",
    "\n",
    "### Q9. If a data is right skewed then what will be the position of median with respect to mean? \n",
    "\n",
    "If data is right skewed then median will be less than mean.\n",
    "\n",
    "### Q10. Explain the difference between covariance and correlation. How are these measures used in statistical analysis? \n",
    "\n",
    "Covariance measures how two variables move together while correlation measures how strong they are related to each other. Covariance can take any value between negative infinity to positive infinity while correlation takes values between -1 to +1.\n",
    "\n",
    "Covariance can be used to determine whether two variables are positively or negatively related while correlation can be used to determine how strong they are related to each other.\n",
    "\n",
    "### Q11. What is the formula for calculating the sample mean? Provide an example calculation for a dataset. \n",
    "\n",
    "The formula for calculating sample mean is:\n",
    "\n",
    "mean = (sum of all values in dataset) / (number of values in dataset)\n",
    "\n",
    "For example, if we have a dataset [1,2,3], then its mean would be:\n",
    "\n",
    "mean = (1+2+3) / 3 = 2\n",
    "\n",
    "### Q12. For a normal distribution data what is the relationship between its measure of central tendency? \n",
    "\n",
    "For normal distribution data, mean=median=mode.\n",
    "\n",
    "### Q13. How is covariance different from correlation? \n",
    "\n",
    "#### Covariance vs Correlation\n",
    "\n",
    "Covariance measures how two variables move together while correlation measures how strong they are related to each other.\n",
    "\n",
    "Covariance can take any value between negative infinity to positive infinity while correlation takes values between -1 to +1.\n",
    "\n",
    "Covariance can be used to determine whether two variables are positively or negatively related while correlation can be used to determine how strong they are related to each other.\n",
    "\n",
    "### Q14. How do outliers affect measures of central tendency and dispersion? Provide an example.\n",
    "\n",
    "Outliers affect measures of central tendency and dispersion by shifting their values away from their true position and increasing their variability respectively.\n",
    "\n",
    "For example, if we have a dataset [1,2,3] and add an outlier 1000 to it then its mean would become (1+2+3+1000)/4=251 while its standard deviation would increase significantly from its original value. But median would be 2.5"
   ]
  }
 ],
 "metadata": {
  "kernelspec": {
   "display_name": "Python 3 (ipykernel)",
   "language": "python",
   "name": "python3"
  },
  "language_info": {
   "codemirror_mode": {
    "name": "ipython",
    "version": 3
   },
   "file_extension": ".py",
   "mimetype": "text/x-python",
   "name": "python",
   "nbconvert_exporter": "python",
   "pygments_lexer": "ipython3",
   "version": "3.10.8"
  }
 },
 "nbformat": 4,
 "nbformat_minor": 5
}
