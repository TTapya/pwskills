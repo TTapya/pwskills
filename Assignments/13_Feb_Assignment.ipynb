{
 "cells": [
  {
   "cell_type": "markdown",
   "id": "5f41ca28",
   "metadata": {},
   "source": [
    "<h1><center>Assignment</center></h1>"
   ]
  },
  {
   "cell_type": "markdown",
   "id": "28dd30e4",
   "metadata": {},
   "source": [
    "### Q-1) Explain why we have to use the Exception class while creating a Custom Exception.\n",
    "Note: Here Exception class refers to the base class for all the exceptions."
   ]
  },
  {
   "cell_type": "markdown",
   "id": "b74b094a",
   "metadata": {},
   "source": [
    "In Python, we can only define custom exceptions by creating a new class that is derived from the built-in Exception class. We have to inherit the exception class because that is the only way to create a Custom Exception."
   ]
  },
  {
   "cell_type": "markdown",
   "id": "72bc563e",
   "metadata": {},
   "source": [
    "### Q-2) Write a python program to print Python Exception Hierarchy."
   ]
  },
  {
   "cell_type": "code",
   "execution_count": 1,
   "id": "7e4445e9",
   "metadata": {},
   "outputs": [
    {
     "name": "stdout",
     "output_type": "stream",
     "text": [
      "Hierarchy for Built-in exceptions is : \n",
      " Exception\n",
      "--- TypeError\n",
      "------ MultipartConversionError\n",
      "------ FloatOperation\n",
      "--- StopAsyncIteration\n",
      "--- StopIteration\n",
      "--- ImportError\n",
      "------ ModuleNotFoundError\n",
      "------ ZipImportError\n",
      "--- OSError\n",
      "------ ConnectionError\n",
      "--------- BrokenPipeError\n",
      "--------- ConnectionAbortedError\n",
      "--------- ConnectionRefusedError\n",
      "--------- ConnectionResetError\n",
      "------------ RemoteDisconnected\n",
      "------ BlockingIOError\n",
      "------ ChildProcessError\n",
      "------ FileExistsError\n",
      "------ FileNotFoundError\n",
      "------ IsADirectoryError\n",
      "------ NotADirectoryError\n",
      "------ InterruptedError\n",
      "--------- InterruptedSystemCall\n",
      "------ PermissionError\n",
      "------ ProcessLookupError\n",
      "------ TimeoutError\n",
      "------ UnsupportedOperation\n",
      "------ Error\n",
      "--------- SameFileError\n",
      "------ SpecialFileError\n",
      "------ ExecError\n",
      "------ ReadError\n",
      "------ herror\n",
      "------ gaierror\n",
      "------ timeout\n",
      "------ SSLError\n",
      "--------- SSLCertVerificationError\n",
      "--------- SSLZeroReturnError\n",
      "--------- SSLWantReadError\n",
      "--------- SSLWantWriteError\n",
      "--------- SSLSyscallError\n",
      "--------- SSLEOFError\n",
      "------ URLError\n",
      "--------- HTTPError\n",
      "--------- ContentTooShortError\n",
      "--- EOFError\n",
      "------ IncompleteReadError\n",
      "--- RuntimeError\n",
      "------ RecursionError\n",
      "------ NotImplementedError\n",
      "--------- StdinNotImplementedError\n",
      "--------- ZMQVersionError\n",
      "------ _DeadlockError\n",
      "------ BrokenBarrierError\n",
      "------ BrokenExecutor\n",
      "------ SendfileNotAvailableError\n",
      "--- NameError\n",
      "------ UnboundLocalError\n",
      "--- AttributeError\n",
      "--- SyntaxError\n",
      "------ IndentationError\n",
      "--------- TabError\n",
      "--- LookupError\n",
      "------ IndexError\n",
      "------ KeyError\n",
      "--------- UnknownBackend\n",
      "--------- NoSuchKernel\n",
      "------ CodecRegistryError\n",
      "--- ValueError\n",
      "------ UnicodeError\n",
      "--------- UnicodeEncodeError\n",
      "--------- UnicodeDecodeError\n",
      "--------- UnicodeTranslateError\n",
      "------ UnsupportedOperation\n",
      "------ JSONDecodeError\n",
      "------ Error\n",
      "------ ClassNotFound\n",
      "------ SSLCertVerificationError\n",
      "------ ClipboardEmpty\n",
      "------ MessageDefect\n",
      "--------- NoBoundaryInMultipartDefect\n",
      "--------- StartBoundaryNotFoundDefect\n",
      "--------- CloseBoundaryNotFoundDefect\n",
      "--------- FirstHeaderLineIsContinuationDefect\n",
      "--------- MisplacedEnvelopeHeaderDefect\n",
      "--------- MissingHeaderBodySeparatorDefect\n",
      "--------- MultipartInvariantViolationDefect\n",
      "--------- InvalidMultipartContentTransferEncodingDefect\n",
      "--------- UndecodableBytesDefect\n",
      "--------- InvalidBase64PaddingDefect\n",
      "--------- InvalidBase64CharactersDefect\n",
      "--------- InvalidBase64LengthDefect\n",
      "--------- HeaderDefect\n",
      "------------ InvalidHeaderDefect\n",
      "------------ HeaderMissingRequiredValue\n",
      "------------ NonPrintableDefect\n",
      "------------ ObsoleteHeaderDefect\n",
      "------------ NonASCIILocalPartDefect\n",
      "------ IllegalMonthError\n",
      "------ IllegalWeekdayError\n",
      "------ MacroToEdit\n",
      "------ ParserError\n",
      "--- AssertionError\n",
      "--- ArithmeticError\n",
      "------ FloatingPointError\n",
      "------ OverflowError\n",
      "------ ZeroDivisionError\n",
      "--------- DivisionByZero\n",
      "--------- DivisionUndefined\n",
      "------ DecimalException\n",
      "--------- Clamped\n",
      "--------- Rounded\n",
      "------------ Underflow\n",
      "------------ Overflow\n",
      "--------- Inexact\n",
      "------------ Underflow\n",
      "------------ Overflow\n",
      "--------- Subnormal\n",
      "------------ Underflow\n",
      "--------- DivisionByZero\n",
      "--------- FloatOperation\n",
      "--------- InvalidOperation\n",
      "------------ ConversionSyntax\n",
      "------------ DivisionImpossible\n",
      "------------ DivisionUndefined\n",
      "------------ InvalidContext\n",
      "--- SystemError\n",
      "------ CodecRegistryError\n",
      "--- ReferenceError\n",
      "--- MemoryError\n",
      "--- BufferError\n",
      "--- Warning\n",
      "------ UserWarning\n",
      "--------- GetPassWarning\n",
      "--------- FormatterWarning\n",
      "------ DeprecationWarning\n",
      "--------- ProvisionalWarning\n",
      "------ PendingDeprecationWarning\n",
      "------ SyntaxWarning\n",
      "------ RuntimeWarning\n",
      "--------- UnknownTimezoneWarning\n",
      "------ FutureWarning\n",
      "--------- ProvisionalCompleterWarning\n",
      "------ ImportWarning\n",
      "------ UnicodeWarning\n",
      "------ BytesWarning\n",
      "------ ResourceWarning\n",
      "------ DeprecatedTzFormatWarning\n",
      "--- Error\n",
      "--- _OptionError\n",
      "--- _Error\n",
      "--- error\n",
      "--- Verbose\n",
      "--- SubprocessError\n",
      "------ CalledProcessError\n",
      "------ TimeoutExpired\n",
      "--- Error\n",
      "--- TokenError\n",
      "--- StopTokenizing\n",
      "--- error\n",
      "--- LZMAError\n",
      "--- RegistryError\n",
      "--- _GiveupOnFastCopy\n",
      "--- EndOfBlock\n",
      "--- TraitError\n",
      "--- ArgumentError\n",
      "--- ArgumentTypeError\n",
      "--- ConfigError\n",
      "------ ConfigLoaderError\n",
      "--------- ArgumentError\n",
      "------ ConfigFileNotFound\n",
      "--- ConfigurableError\n",
      "------ MultipleInstanceError\n",
      "--- ApplicationError\n",
      "--- ErrorDuringImport\n",
      "--- BdbQuit\n",
      "--- Restart\n",
      "--- COMError\n",
      "--- ArgumentError\n",
      "--- error\n",
      "--- FindCmdError\n",
      "--- HomeDirError\n",
      "--- ProfileDirError\n",
      "--- IPythonCoreError\n",
      "------ TryNext\n",
      "------ UsageError\n",
      "------ StdinNotImplementedError\n",
      "--- InputRejected\n",
      "--- GetoptError\n",
      "--- Incomplete\n",
      "--- OptionError\n",
      "--- ErrorToken\n",
      "--- PickleError\n",
      "------ PicklingError\n",
      "------ UnpicklingError\n",
      "--- _Stop\n",
      "--- PrefilterError\n",
      "--- AliasError\n",
      "------ InvalidAliasError\n",
      "--- Error\n",
      "------ InterfaceError\n",
      "------ DatabaseError\n",
      "--------- InternalError\n",
      "--------- OperationalError\n",
      "--------- ProgrammingError\n",
      "--------- IntegrityError\n",
      "--------- DataError\n",
      "--------- NotSupportedError\n",
      "--- Warning\n",
      "--- SpaceInInput\n",
      "--- Error\n",
      "------ CancelledError\n",
      "------ TimeoutError\n",
      "------ InvalidStateError\n",
      "--- _GiveupOnSendfile\n",
      "--- TimeoutError\n",
      "--- InvalidStateError\n",
      "--- LimitOverrunError\n",
      "--- QueueEmpty\n",
      "--- QueueFull\n",
      "--- DOMException\n",
      "------ IndexSizeErr\n",
      "------ DomstringSizeErr\n",
      "------ HierarchyRequestErr\n",
      "------ WrongDocumentErr\n",
      "------ InvalidCharacterErr\n",
      "------ NoDataAllowedErr\n",
      "------ NoModificationAllowedErr\n",
      "------ NotFoundErr\n",
      "------ NotSupportedErr\n",
      "------ InuseAttributeErr\n",
      "------ InvalidStateErr\n",
      "------ SyntaxErr\n",
      "------ InvalidModificationErr\n",
      "------ NamespaceErr\n",
      "------ InvalidAccessErr\n",
      "------ ValidationErr\n",
      "--- ValidationError\n",
      "--- EditReadOnlyBuffer\n",
      "--- _Retry\n",
      "--- InvalidLayoutError\n",
      "--- HeightIsUnknownError\n",
      "--- Empty\n",
      "--- Full\n",
      "--- ParserSyntaxError\n",
      "--- InternalParseError\n",
      "--- _PositionUpdatingFinished\n",
      "--- SimpleGetItemNotFound\n",
      "--- UncaughtAttributeError\n",
      "--- ParamIssue\n",
      "--- OnErrorLeaf\n",
      "--- _JediError\n",
      "------ InternalError\n",
      "------ WrongVersion\n",
      "------ RefactoringError\n",
      "--- InvalidPythonEnvironment\n",
      "--- MessageError\n",
      "------ MessageParseError\n",
      "--------- HeaderParseError\n",
      "--------- BoundaryError\n",
      "------ MultipartConversionError\n",
      "------ CharsetError\n",
      "--- Error\n",
      "--- HTTPException\n",
      "------ NotConnected\n",
      "------ InvalidURL\n",
      "------ UnknownProtocol\n",
      "------ UnknownTransferEncoding\n",
      "------ UnimplementedFileMode\n",
      "------ IncompleteRead\n",
      "------ ImproperConnectionState\n",
      "--------- CannotSendRequest\n",
      "--------- CannotSendHeader\n",
      "--------- ResponseNotReady\n",
      "------ BadStatusLine\n",
      "--------- RemoteDisconnected\n",
      "------ LineTooLong\n",
      "--- InteractivelyDefined\n",
      "--- KillEmbedded\n",
      "--- ZMQBaseError\n",
      "------ ZMQError\n",
      "--------- ContextTerminated\n",
      "--------- Again\n",
      "--------- InterruptedSystemCall\n",
      "------ ZMQBindError\n",
      "------ NotDone\n",
      "--- NoIPAddresses\n",
      "--- InvalidPortNumber\n",
      "--- DuplicateKernelError\n",
      "--- TimeoutError\n",
      "--- ReturnValueIgnoredError\n",
      "--- KeyReuseError\n",
      "--- UnknownKeyError\n",
      "--- LeakedCallbackError\n",
      "--- BadYieldError\n",
      "--- ReturnValueIgnoredError\n",
      "--- Return\n",
      "--- QueueEmpty\n",
      "--- QueueFull\n",
      "--- error\n",
      "--- com_error\n"
     ]
    }
   ],
   "source": [
    "import inspect\n",
    "\n",
    "def treeClass(cls, ind = 0):\n",
    "    print ('-' * ind, cls.__name__)\n",
    "    \n",
    "    for i in cls.__subclasses__():\n",
    "        treeClass(i, ind + 3)\n",
    "\n",
    "print(\"Hierarchy for Built-in exceptions is : \")\n",
    "\n",
    "def hierarchyTreeCreator(cls):\n",
    "    inspect.getclasstree(inspect.getmro(cls))\n",
    "    treeClass(cls)\n",
    "\n",
    "hierarchyTreeCreator(Exception)"
   ]
  },
  {
   "cell_type": "markdown",
   "id": "b62f7b4c",
   "metadata": {},
   "source": [
    "### Q-3) What errors are defined in the ArithmeticError class? Explain any two with an example."
   ]
  },
  {
   "cell_type": "markdown",
   "id": "2d906b99",
   "metadata": {},
   "source": [
    "ArithmeticError types in Python include:\n",
    "\n",
    "- OverFlowError\n",
    "- ZeroDivisionError\n",
    "- FloatingPointError"
   ]
  },
  {
   "cell_type": "markdown",
   "id": "ebda0d04",
   "metadata": {},
   "source": [
    "#### OverFlowError:\n",
    "In Python, OverflowError occurs when any operations like arithmetic operations or any other variable storing any value above its limit then there occurs an overflow of values that will exceed it’s specified or already defined limit."
   ]
  },
  {
   "cell_type": "code",
   "execution_count": 1,
   "id": "96093ce6",
   "metadata": {},
   "outputs": [
    {
     "ename": "OverflowError",
     "evalue": "math range error",
     "output_type": "error",
     "traceback": [
      "\u001b[1;31m---------------------------------------------------------------------------\u001b[0m",
      "\u001b[1;31mOverflowError\u001b[0m                             Traceback (most recent call last)",
      "\u001b[1;32m<ipython-input-1-2625255c33b5>\u001b[0m in \u001b[0;36m<module>\u001b[1;34m\u001b[0m\n\u001b[0;32m      1\u001b[0m \u001b[1;32mimport\u001b[0m \u001b[0mmath\u001b[0m\u001b[1;33m\u001b[0m\u001b[1;33m\u001b[0m\u001b[0m\n\u001b[1;32m----> 2\u001b[1;33m \u001b[0mmath\u001b[0m\u001b[1;33m.\u001b[0m\u001b[0mexp\u001b[0m\u001b[1;33m(\u001b[0m\u001b[1;36m800\u001b[0m\u001b[1;33m)\u001b[0m \u001b[1;31m# e^800 is too big\u001b[0m\u001b[1;33m\u001b[0m\u001b[1;33m\u001b[0m\u001b[0m\n\u001b[0m",
      "\u001b[1;31mOverflowError\u001b[0m: math range error"
     ]
    }
   ],
   "source": [
    "import math\n",
    "math.exp(800) # e^800 is too big"
   ]
  },
  {
   "cell_type": "markdown",
   "id": "724398a5",
   "metadata": {},
   "source": [
    "#### ZeroDivisionError:\n",
    "This error occurs when a quantity is divided by zero."
   ]
  },
  {
   "cell_type": "code",
   "execution_count": 2,
   "id": "0235b56b",
   "metadata": {},
   "outputs": [
    {
     "ename": "ZeroDivisionError",
     "evalue": "division by zero",
     "output_type": "error",
     "traceback": [
      "\u001b[1;31m---------------------------------------------------------------------------\u001b[0m",
      "\u001b[1;31mZeroDivisionError\u001b[0m                         Traceback (most recent call last)",
      "\u001b[1;32m<ipython-input-2-5895e735636f>\u001b[0m in \u001b[0;36m<module>\u001b[1;34m\u001b[0m\n\u001b[0;32m      1\u001b[0m \u001b[0ma\u001b[0m \u001b[1;33m=\u001b[0m \u001b[1;36m10\u001b[0m\u001b[1;33m\u001b[0m\u001b[1;33m\u001b[0m\u001b[0m\n\u001b[1;32m----> 2\u001b[1;33m \u001b[0ma\u001b[0m\u001b[1;33m/\u001b[0m\u001b[1;36m0\u001b[0m\u001b[1;33m\u001b[0m\u001b[1;33m\u001b[0m\u001b[0m\n\u001b[0m",
      "\u001b[1;31mZeroDivisionError\u001b[0m: division by zero"
     ]
    }
   ],
   "source": [
    "a = 10\n",
    "a/0"
   ]
  },
  {
   "cell_type": "markdown",
   "id": "cc1dafbb",
   "metadata": {},
   "source": [
    "### Q-4) Why LookupError class is used? Explain with an example KeyError and IndexError."
   ]
  },
  {
   "cell_type": "markdown",
   "id": "366e66bf",
   "metadata": {},
   "source": [
    "The LookupError exception in Python forms the base class for all exceptions that are raised when an index or a key is not found for a sequence or dictionary respectively.\n",
    "\n",
    "You can use LookupError exception class to handle both IndexError and KeyError exception classes."
   ]
  },
  {
   "cell_type": "code",
   "execution_count": 3,
   "id": "06f4b565",
   "metadata": {},
   "outputs": [
    {
     "ename": "NameError",
     "evalue": "name 'hierarchyTreeCreator' is not defined",
     "output_type": "error",
     "traceback": [
      "\u001b[1;31m---------------------------------------------------------------------------\u001b[0m",
      "\u001b[1;31mNameError\u001b[0m                                 Traceback (most recent call last)",
      "\u001b[1;32m<ipython-input-3-9060782b548c>\u001b[0m in \u001b[0;36m<module>\u001b[1;34m\u001b[0m\n\u001b[1;32m----> 1\u001b[1;33m \u001b[0mhierarchyTreeCreator\u001b[0m\u001b[1;33m(\u001b[0m\u001b[0mLookupError\u001b[0m\u001b[1;33m)\u001b[0m\u001b[1;33m\u001b[0m\u001b[1;33m\u001b[0m\u001b[0m\n\u001b[0m",
      "\u001b[1;31mNameError\u001b[0m: name 'hierarchyTreeCreator' is not defined"
     ]
    }
   ],
   "source": [
    "hierarchyTreeCreator(LookupError)"
   ]
  },
  {
   "cell_type": "markdown",
   "id": "ed86dea2",
   "metadata": {},
   "source": [
    "#### IndexError"
   ]
  },
  {
   "cell_type": "code",
   "execution_count": 4,
   "id": "95d91661",
   "metadata": {},
   "outputs": [
    {
     "ename": "IndexError",
     "evalue": "list index out of range",
     "output_type": "error",
     "traceback": [
      "\u001b[1;31m---------------------------------------------------------------------------\u001b[0m",
      "\u001b[1;31mIndexError\u001b[0m                                Traceback (most recent call last)",
      "\u001b[1;32m<ipython-input-4-ecb36250464f>\u001b[0m in \u001b[0;36m<module>\u001b[1;34m\u001b[0m\n\u001b[0;32m      1\u001b[0m \u001b[0ma\u001b[0m \u001b[1;33m=\u001b[0m \u001b[1;33m[\u001b[0m\u001b[1;36m1\u001b[0m\u001b[1;33m,\u001b[0m \u001b[1;36m2\u001b[0m\u001b[1;33m,\u001b[0m \u001b[1;36m3\u001b[0m\u001b[1;33m]\u001b[0m\u001b[1;33m\u001b[0m\u001b[1;33m\u001b[0m\u001b[0m\n\u001b[1;32m----> 2\u001b[1;33m \u001b[0ma\u001b[0m\u001b[1;33m[\u001b[0m\u001b[1;36m4\u001b[0m\u001b[1;33m]\u001b[0m\u001b[1;33m\u001b[0m\u001b[1;33m\u001b[0m\u001b[0m\n\u001b[0m",
      "\u001b[1;31mIndexError\u001b[0m: list index out of range"
     ]
    }
   ],
   "source": [
    "a = [1, 2, 3]\n",
    "a[4]"
   ]
  },
  {
   "cell_type": "markdown",
   "id": "a6235b55",
   "metadata": {},
   "source": [
    "#### KeyError"
   ]
  },
  {
   "cell_type": "code",
   "execution_count": 5,
   "id": "4b3d32e7",
   "metadata": {},
   "outputs": [
    {
     "ename": "KeyError",
     "evalue": "3",
     "output_type": "error",
     "traceback": [
      "\u001b[1;31m---------------------------------------------------------------------------\u001b[0m",
      "\u001b[1;31mKeyError\u001b[0m                                  Traceback (most recent call last)",
      "\u001b[1;32m<ipython-input-5-f116a88e572a>\u001b[0m in \u001b[0;36m<module>\u001b[1;34m\u001b[0m\n\u001b[0;32m      1\u001b[0m \u001b[0ma\u001b[0m \u001b[1;33m=\u001b[0m \u001b[1;33m{\u001b[0m\u001b[1;34m'a'\u001b[0m\u001b[1;33m:\u001b[0m \u001b[1;36m2\u001b[0m\u001b[1;33m,\u001b[0m \u001b[1;36m4\u001b[0m\u001b[1;33m:\u001b[0m \u001b[1;34m'b'\u001b[0m\u001b[1;33m}\u001b[0m\u001b[1;33m\u001b[0m\u001b[1;33m\u001b[0m\u001b[0m\n\u001b[1;32m----> 2\u001b[1;33m \u001b[0ma\u001b[0m\u001b[1;33m[\u001b[0m\u001b[1;36m3\u001b[0m\u001b[1;33m]\u001b[0m\u001b[1;33m\u001b[0m\u001b[1;33m\u001b[0m\u001b[0m\n\u001b[0m",
      "\u001b[1;31mKeyError\u001b[0m: 3"
     ]
    }
   ],
   "source": [
    "a = {'a': 2, 4: 'b'}\n",
    "a[3]"
   ]
  },
  {
   "cell_type": "markdown",
   "id": "1fa867f3",
   "metadata": {},
   "source": [
    "### Q-5) Explain ImportError. What is ModuleNotFoundError?"
   ]
  },
  {
   "cell_type": "markdown",
   "id": "6a555f9c",
   "metadata": {},
   "source": [
    "In Python, ImportError occurs when the Python program tries to import module which does not exist in the private table."
   ]
  },
  {
   "cell_type": "code",
   "execution_count": 6,
   "id": "290ac351",
   "metadata": {},
   "outputs": [
    {
     "ename": "NameError",
     "evalue": "name 'hierarchyTreeCreator' is not defined",
     "output_type": "error",
     "traceback": [
      "\u001b[1;31m---------------------------------------------------------------------------\u001b[0m",
      "\u001b[1;31mNameError\u001b[0m                                 Traceback (most recent call last)",
      "\u001b[1;32m<ipython-input-6-604b40bf5979>\u001b[0m in \u001b[0;36m<module>\u001b[1;34m\u001b[0m\n\u001b[1;32m----> 1\u001b[1;33m \u001b[0mhierarchyTreeCreator\u001b[0m\u001b[1;33m(\u001b[0m\u001b[0mImportError\u001b[0m\u001b[1;33m)\u001b[0m\u001b[1;33m\u001b[0m\u001b[1;33m\u001b[0m\u001b[0m\n\u001b[0m",
      "\u001b[1;31mNameError\u001b[0m: name 'hierarchyTreeCreator' is not defined"
     ]
    }
   ],
   "source": [
    "hierarchyTreeCreator(ImportError)"
   ]
  },
  {
   "cell_type": "markdown",
   "id": "3f8a063a",
   "metadata": {},
   "source": [
    "#### ModuleNotFoundError\n",
    "This error occurs when trying to import a module which doesn't exist."
   ]
  },
  {
   "cell_type": "code",
   "execution_count": 7,
   "id": "d32bdefa",
   "metadata": {},
   "outputs": [
    {
     "ename": "ModuleNotFoundError",
     "evalue": "No module named 'sao'",
     "output_type": "error",
     "traceback": [
      "\u001b[1;31m---------------------------------------------------------------------------\u001b[0m",
      "\u001b[1;31mModuleNotFoundError\u001b[0m                       Traceback (most recent call last)",
      "\u001b[1;32m<ipython-input-7-4aacb9c9e26e>\u001b[0m in \u001b[0;36m<module>\u001b[1;34m\u001b[0m\n\u001b[1;32m----> 1\u001b[1;33m \u001b[1;32mimport\u001b[0m \u001b[0msao\u001b[0m\u001b[1;33m\u001b[0m\u001b[1;33m\u001b[0m\u001b[0m\n\u001b[0m",
      "\u001b[1;31mModuleNotFoundError\u001b[0m: No module named 'sao'"
     ]
    }
   ],
   "source": [
    "import sao"
   ]
  },
  {
   "cell_type": "markdown",
   "id": "72cacf02",
   "metadata": {},
   "source": [
    "### Q-6) List down some best practices for exception handling in python."
   ]
  },
  {
   "cell_type": "markdown",
   "id": "61b08546",
   "metadata": {},
   "source": [
    "#### The best practices while handling exceptions are as follows:\n",
    "\n",
    "- Always try to use specific exceptions instead of generic ones.\n",
    "- Provide a meaningful message while handling exceptions.\n",
    "- Instead of just printing the error, log it, so that it will be saved permanently.\n",
    "- Only handle the exceptions that are bound to happen and try to avoid multiple exception handling.\n",
    "- Prepare a proper documentation to educate future developers about the code.\n",
    "- Finally, cleanup all the resources."
   ]
  }
 ],
 "metadata": {
  "kernelspec": {
   "display_name": "Python 3",
   "language": "python",
   "name": "python3"
  },
  "language_info": {
   "codemirror_mode": {
    "name": "ipython",
    "version": 3
   },
   "file_extension": ".py",
   "mimetype": "text/x-python",
   "name": "python",
   "nbconvert_exporter": "python",
   "pygments_lexer": "ipython3",
   "version": "3.8.8"
  }
 },
 "nbformat": 4,
 "nbformat_minor": 5
}
