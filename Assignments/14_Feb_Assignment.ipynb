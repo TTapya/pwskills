{
 "cells": [
  {
   "cell_type": "markdown",
   "id": "a42aa50e",
   "metadata": {},
   "source": [
    "<h1><center>Assignment</center></h1>"
   ]
  },
  {
   "cell_type": "markdown",
   "id": "3a1a32fa",
   "metadata": {},
   "source": [
    "### Q-1) What is multithreading in python? Why is it used? Name the module used to handle threads in python."
   ]
  },
  {
   "cell_type": "markdown",
   "id": "d3e8ec58",
   "metadata": {},
   "source": [
    "Multithreading is a threading technique in Python programming to run multiple threads concurrently by rapidly switching between threads with a CPU help (called context switching). Besides, it allows sharing of its data space with the main threads inside a process that share information and communication with other threads easier than individual processes. Multithreading aims to perform multiple tasks simultaneously, which increases performance, speed and improves the rendering of the application.\n",
    "\n",
    "threading module is used to handle threads in python."
   ]
  },
  {
   "cell_type": "markdown",
   "id": "4f165df2",
   "metadata": {},
   "source": [
    "### Q-2) Why threading module used? Write the use of the following functions:\n",
    "1. activeCount()\n",
    "2. currentThread()\n",
    "3. enumerate()"
   ]
  },
  {
   "cell_type": "markdown",
   "id": "f1bc4601",
   "metadata": {},
   "source": [
    "The Python standard library provides the threading module. Thread, in this module, nicely encapsulates threads, providing a clean interface to work with them."
   ]
  },
  {
   "cell_type": "markdown",
   "id": "d251d3e6",
   "metadata": {},
   "source": [
    "#### Active Count\n",
    "In Python, the method <b>threading.active_count()</b> from the threading module is used to count the currently active or running threads."
   ]
  },
  {
   "cell_type": "markdown",
   "id": "5e278b9c",
   "metadata": {},
   "source": [
    "#### Current Thread\n",
    "current_thread() is an inbuilt method of the threading module in Python. It is used to return the current Thread object, which corresponds to the caller's thread of control."
   ]
  },
  {
   "cell_type": "markdown",
   "id": "1959e6e0",
   "metadata": {},
   "source": [
    "#### Enumerate\n",
    "threading.enumerate() returns a list of all Thread objects currently alive. The list includes daemonic threads, dummy thread objects created by current_thread(), and the main thread. It excludes terminated threads and threads that have not yet been started."
   ]
  },
  {
   "cell_type": "markdown",
   "id": "4953b846",
   "metadata": {},
   "source": [
    "### Q-3) Explain the following functions:\n",
    "\n",
    "1. run()\n",
    "2. start()\n",
    "3. join()\n",
    "4. isAlive()"
   ]
  },
  {
   "cell_type": "markdown",
   "id": "cbcba248",
   "metadata": {},
   "source": [
    "#### run()\n",
    "The standard run() method invokes the callable object passed to the object’s constructor as the target argument, if any, with positional and keyword arguments taken from the args and kwargs arguments, respectively."
   ]
  },
  {
   "cell_type": "markdown",
   "id": "2d5645bd",
   "metadata": {},
   "source": [
    "#### start()\n",
    "Start the thread’s activity. It must be called at most once per thread object. It arranges for the object’s run() method to be invoked in a separate thread of control."
   ]
  },
  {
   "cell_type": "markdown",
   "id": "58645458",
   "metadata": {},
   "source": [
    "#### join()\n",
    "Wait until the thread terminates. This blocks the calling thread until the thread whose join() method is called terminates – either normally or through an unhandled exception – or until the optional timeout occurs."
   ]
  },
  {
   "cell_type": "markdown",
   "id": "f307f7b1",
   "metadata": {},
   "source": [
    "#### isAlive()\n",
    "is_alive() method is an inbuilt method of the Thread class of the threading module in Python. It uses a Thread object, and checks whether that thread is alive or not, ie, it is still running or not. This method returns True before the run() starts until just after the run() method is executed."
   ]
  },
  {
   "cell_type": "markdown",
   "id": "8ad29565",
   "metadata": {},
   "source": [
    "### Q-4) Write a python program to create two threads. Thread one must print the list of squares and thread two must print the list of cubes."
   ]
  },
  {
   "cell_type": "code",
   "execution_count": 1,
   "id": "36c3175e",
   "metadata": {},
   "outputs": [
    {
     "name": "stdout",
     "output_type": "stream",
     "text": [
      "<Thread(Thread-6, started 11572)> [1, 4, 9, 16, 25]\n",
      "<Thread(Thread-7, started 9976)> [1, 8, 27, 64, 125]\n"
     ]
    }
   ],
   "source": [
    "import threading\n",
    "\n",
    "def fun(p):\n",
    "    print(threading.current_thread(), [(i+1)**p for i in range(5)])\n",
    "\n",
    "t1 = threading.Thread(target=fun, args=(2,))\n",
    "t2 = threading.Thread(target=fun, args=(3,))\n",
    "\n",
    "t1.start()\n",
    "t2.start()\n",
    "\n",
    "t1.join()\n",
    "t2.join()"
   ]
  },
  {
   "cell_type": "markdown",
   "id": "c3031c29",
   "metadata": {},
   "source": [
    "### Q-5) State advantages and disadvantages of multithreading."
   ]
  },
  {
   "cell_type": "markdown",
   "id": "46b3bde9",
   "metadata": {},
   "source": [
    "#### Advantages\n",
    "\n",
    "- Improved performance and concurrency\n",
    "\n",
    "- Simplified coding of remote procedure calls and conversations\n",
    "\n",
    "- Simultaneous access to multiple applications\n",
    "\n",
    "- Reduced number of required servers\n",
    "\n",
    "#### Disadvantages\n",
    "\n",
    "- Difficulty of writing code\n",
    "\n",
    "- Difficulty of debugging\n",
    "\n",
    "- Difficulty of managing concurrency\n",
    "\n",
    "- Difficulty of testing\n",
    "\n",
    "- Difficulty of porting existing code"
   ]
  },
  {
   "cell_type": "markdown",
   "id": "d4fb57f0",
   "metadata": {},
   "source": [
    "### Q-6) Explain deadlocks and race conditions."
   ]
  },
  {
   "cell_type": "markdown",
   "id": "20dc0153",
   "metadata": {},
   "source": [
    "#### Race Condition\n",
    "\n",
    "When two processes are competing with each other causing data corruption.\n",
    "\n",
    "For example, if two processes/threads are trying to execute the following conditions simultaneously, they cause data corruption:\n",
    "\n",
    "Thread 1:\n",
    "total = num1 + num2\n",
    "\n",
    "Thread 2:\n",
    "total = num1 - num2\n",
    "\n",
    "It is very common for the race conditions to go unnoticed during testing even after multiple tests and code reviews. But in production, there would be a lot of processes and threads working parallelly and compete for the same resources, and this problem would occur.\n",
    "\n",
    "#### Deadlock\n",
    "\n",
    "When two processes are waiting for each other directly or indirectly, it is called deadlock.\n",
    "\n",
    "This usually occurs when two processes are waiting for shared resources acquired by others. For example, If thread T1 acquired resource R1 and it also needs resource R2 for it to accomplish its task. But the resource R2 is acquired by thread T2 which is waiting for resource R1(which is acquired by T1). Neither of them will be able to accomplish its task, as they keep waiting for the other resources they need."
   ]
  }
 ],
 "metadata": {
  "kernelspec": {
   "display_name": "Python 3",
   "language": "python",
   "name": "python3"
  },
  "language_info": {
   "codemirror_mode": {
    "name": "ipython",
    "version": 3
   },
   "file_extension": ".py",
   "mimetype": "text/x-python",
   "name": "python",
   "nbconvert_exporter": "python",
   "pygments_lexer": "ipython3",
   "version": "3.8.8"
  }
 },
 "nbformat": 4,
 "nbformat_minor": 5
}
