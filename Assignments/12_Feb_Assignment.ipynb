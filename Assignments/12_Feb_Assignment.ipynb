{
 "cells": [
  {
   "cell_type": "markdown",
   "id": "3fec9e7d",
   "metadata": {},
   "source": [
    "<h1><center>Assignment</center></h1>"
   ]
  },
  {
   "cell_type": "markdown",
   "id": "a8fdec26",
   "metadata": {},
   "source": [
    "### Q-1) What is an Exception in Python? Write the difference between Exceptions and Syntax errors."
   ]
  },
  {
   "cell_type": "markdown",
   "id": "9c6226ec",
   "metadata": {},
   "source": [
    "An exception is an event, which occurs during the execution of a program that disrupts the normal flow of the program's instructions. In general, when a Python script encounters a situation that it cannot cope with, it raises an exception. An exception is a Python object that represents an error.\n",
    "\n",
    "#### Syntax Error\n",
    "When the proper syntax of the language is not followed then a syntax error is thrown. For example, not adding a colon after an if statement. We can fix this by writing the correct syntax.\n",
    "\n",
    "#### Exception\n",
    "When in the runtime an error that occurs after passing the syntax test is called exception. For example, when we divide any number by zero then the ZeroDivisionError exception is raised, or when we import a module that does not exist then ImportError is raised."
   ]
  },
  {
   "cell_type": "markdown",
   "id": "df80eff0",
   "metadata": {},
   "source": [
    "### Q-2) What happens when an exception is not handled? Explain with an example."
   ]
  },
  {
   "cell_type": "markdown",
   "id": "3d288f0f",
   "metadata": {},
   "source": [
    "This exception error will crash the program if it is unhandled."
   ]
  },
  {
   "cell_type": "code",
   "execution_count": 3,
   "id": "75adff1f",
   "metadata": {},
   "outputs": [
    {
     "ename": "ZeroDivisionError",
     "evalue": "division by zero",
     "output_type": "error",
     "traceback": [
      "\u001b[1;31m---------------------------------------------------------------------------\u001b[0m",
      "\u001b[1;31mZeroDivisionError\u001b[0m                         Traceback (most recent call last)",
      "\u001b[1;32m<ipython-input-3-5895e735636f>\u001b[0m in \u001b[0;36m<module>\u001b[1;34m\u001b[0m\n\u001b[0;32m      1\u001b[0m \u001b[0ma\u001b[0m \u001b[1;33m=\u001b[0m \u001b[1;36m10\u001b[0m\u001b[1;33m\u001b[0m\u001b[1;33m\u001b[0m\u001b[0m\n\u001b[1;32m----> 2\u001b[1;33m \u001b[0ma\u001b[0m\u001b[1;33m/\u001b[0m\u001b[1;36m0\u001b[0m\u001b[1;33m\u001b[0m\u001b[1;33m\u001b[0m\u001b[0m\n\u001b[0m",
      "\u001b[1;31mZeroDivisionError\u001b[0m: division by zero"
     ]
    }
   ],
   "source": [
    "a = 10\n",
    "a/0"
   ]
  },
  {
   "cell_type": "markdown",
   "id": "0080cccd",
   "metadata": {},
   "source": [
    "### Q-3) Which Python statements are used to catch and handle exceptions? Explain with an example."
   ]
  },
  {
   "cell_type": "markdown",
   "id": "617af7e1",
   "metadata": {},
   "source": [
    "The try and except block in Python is used to catch and handle exceptions. Python executes code following the try statement as a “normal” part of the program. The code that follows the except statement is the program’s response to any exceptions in the preceding try clause."
   ]
  },
  {
   "cell_type": "code",
   "execution_count": 5,
   "id": "2b15abce",
   "metadata": {},
   "outputs": [
    {
     "name": "stdout",
     "output_type": "stream",
     "text": [
      "Some error occured - division by zero\n"
     ]
    }
   ],
   "source": [
    "try:\n",
    "    a = 10\n",
    "    a/0\n",
    "except Exception as e:\n",
    "    print(\"Some error occured -\", e)"
   ]
  },
  {
   "cell_type": "markdown",
   "id": "902f1ff7",
   "metadata": {},
   "source": [
    "### Q-4) Explain with an example:\n",
    "- try and else\n",
    "- finally\n",
    "- raise"
   ]
  },
  {
   "cell_type": "markdown",
   "id": "a3c95ad4",
   "metadata": {},
   "source": [
    "<b>try and else:</b> when try block runs without any exceptions then and only then the code in else block will run."
   ]
  },
  {
   "cell_type": "code",
   "execution_count": 6,
   "id": "af85cfcd",
   "metadata": {},
   "outputs": [
    {
     "name": "stdout",
     "output_type": "stream",
     "text": [
      "This is the else block\n"
     ]
    }
   ],
   "source": [
    "try:\n",
    "    a = 10\n",
    "except Exception as e:\n",
    "    print(\"Some error occured -\", e)\n",
    "else:\n",
    "    print(\"This is the else block\")"
   ]
  },
  {
   "cell_type": "markdown",
   "id": "79180c20",
   "metadata": {},
   "source": [
    "<b>finally:</b> any code written in finally block will run at any cost."
   ]
  },
  {
   "cell_type": "code",
   "execution_count": 8,
   "id": "f60a5d52",
   "metadata": {},
   "outputs": [
    {
     "name": "stdout",
     "output_type": "stream",
     "text": [
      "Some error occured - division by zero\n",
      "Hi from finally!\n"
     ]
    }
   ],
   "source": [
    "try:\n",
    "    a = 10\n",
    "    a/0\n",
    "except Exception as e:\n",
    "    print(\"Some error occured -\", e)\n",
    "else:\n",
    "    print(\"This is the else block\")\n",
    "finally:\n",
    "    print(\"Hi from finally!\")"
   ]
  },
  {
   "cell_type": "code",
   "execution_count": 9,
   "id": "b927fcf6",
   "metadata": {},
   "outputs": [
    {
     "name": "stdout",
     "output_type": "stream",
     "text": [
      "This is the else block\n",
      "Hi from finally!\n"
     ]
    }
   ],
   "source": [
    "try:\n",
    "    a = 10\n",
    "except Exception as e:\n",
    "    print(\"Some error occured -\", e)\n",
    "else:\n",
    "    print(\"This is the else block\")\n",
    "finally:\n",
    "    print(\"Hi from finally!\")"
   ]
  },
  {
   "cell_type": "markdown",
   "id": "3eea8783",
   "metadata": {},
   "source": [
    "<b>raise:</b> it is a reserved keyword in python. The raise keyword is used to raise an exception."
   ]
  },
  {
   "cell_type": "code",
   "execution_count": 15,
   "id": "7bb3a955",
   "metadata": {},
   "outputs": [
    {
     "ename": "Exception",
     "evalue": "value of a should not exceed 8",
     "output_type": "error",
     "traceback": [
      "\u001b[1;31m---------------------------------------------------------------------------\u001b[0m",
      "\u001b[1;31mException\u001b[0m                                 Traceback (most recent call last)",
      "\u001b[1;32m<ipython-input-15-1e574a4bc37b>\u001b[0m in \u001b[0;36m<module>\u001b[1;34m\u001b[0m\n\u001b[0;32m      1\u001b[0m \u001b[0ma\u001b[0m \u001b[1;33m=\u001b[0m \u001b[1;36m10\u001b[0m\u001b[1;33m\u001b[0m\u001b[1;33m\u001b[0m\u001b[0m\n\u001b[0;32m      2\u001b[0m \u001b[1;32mif\u001b[0m \u001b[0ma\u001b[0m \u001b[1;33m>\u001b[0m \u001b[1;36m8\u001b[0m\u001b[1;33m:\u001b[0m\u001b[1;33m\u001b[0m\u001b[1;33m\u001b[0m\u001b[0m\n\u001b[1;32m----> 3\u001b[1;33m     \u001b[1;32mraise\u001b[0m \u001b[0mException\u001b[0m\u001b[1;33m(\u001b[0m\u001b[1;34m\"value of a should not exceed 8\"\u001b[0m\u001b[1;33m)\u001b[0m\u001b[1;33m\u001b[0m\u001b[1;33m\u001b[0m\u001b[0m\n\u001b[0m",
      "\u001b[1;31mException\u001b[0m: value of a should not exceed 8"
     ]
    }
   ],
   "source": [
    "a = 10\n",
    "if a > 8:\n",
    "    raise Exception(\"value of a should not exceed 8\")"
   ]
  },
  {
   "cell_type": "markdown",
   "id": "d66efad0",
   "metadata": {},
   "source": [
    "### Q-5) What are Custom Exceptions in Python? Why do we need Custom Exceptions? Explain with an example."
   ]
  },
  {
   "cell_type": "markdown",
   "id": "e59a04a2",
   "metadata": {},
   "source": [
    "Having custom exceptions - tailored to your specific use cases and that you can raise and catch in specific circumstances - can make your code much more readable and robust, and reduce the amount of code you write later to try and figure out what exactly went wrong. In Python, we can define custom exceptions by creating a new class which inherits from the built-in Exception class.\n",
    "\n",
    "Depending on your needs, you can create much more specific exceptions, but never forget to use informative names. A general rule in Python is to use short but informative names. Ironically, custom exceptions constitute an exception, as they often have long names. This is because most people like to use self-standing exception names, and I think you should follow this rule too. Consider these pairs of informative and vague exception names:\n",
    "\n",
    "- NegativeValueToBeSquaredError versus SquaredError\n",
    "- IncorrectUserNameError versus InputError\n",
    "- OverloadedTruckError and NoLoadOnTruckError versus LoadError"
   ]
  },
  {
   "cell_type": "markdown",
   "id": "fd0e462b",
   "metadata": {},
   "source": [
    "### Q-6) Create a custom exception class. Use this class to handle an exception."
   ]
  },
  {
   "cell_type": "code",
   "execution_count": 16,
   "id": "7a36ba85",
   "metadata": {},
   "outputs": [
    {
     "name": "stdout",
     "output_type": "stream",
     "text": [
      "This is my custom exception\n"
     ]
    }
   ],
   "source": [
    "class CustomException(Exception):\n",
    "    pass\n",
    "\n",
    "try:\n",
    "    raise CustomException(\"This is my custom exception\")\n",
    "except CustomException as e:\n",
    "    print(e)"
   ]
  }
 ],
 "metadata": {
  "kernelspec": {
   "display_name": "Python 3",
   "language": "python",
   "name": "python3"
  },
  "language_info": {
   "codemirror_mode": {
    "name": "ipython",
    "version": 3
   },
   "file_extension": ".py",
   "mimetype": "text/x-python",
   "name": "python",
   "nbconvert_exporter": "python",
   "pygments_lexer": "ipython3",
   "version": "3.8.8"
  }
 },
 "nbformat": 4,
 "nbformat_minor": 5
}
