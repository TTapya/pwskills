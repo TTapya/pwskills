{
 "cells": [
  {
   "cell_type": "markdown",
   "id": "933449ce-c1f5-4c88-b015-54cf4ec1cba1",
   "metadata": {},
   "source": [
    "<h1><center>Assignment</center></h1>"
   ]
  },
  {
   "cell_type": "markdown",
   "id": "a2e354d8-3a17-4c64-b147-06fdbebca8ee",
   "metadata": {},
   "source": [
    "### Q-1) What is a database? Differentiate between SQL and NoSQL databases."
   ]
  },
  {
   "cell_type": "markdown",
   "id": "f333cd12-517d-4589-8da4-64036a237755",
   "metadata": {},
   "source": [
    "A database is a systematic or organized collection of related information that is stored in such a way that it can be easily accessed, retrieved, managed, and updated. It is where all data is stored, very much like a library that houses a wide range of books from different genres. Think of data as books. They support electronic storage and manipulation of data. Databases make data management easy."
   ]
  },
  {
   "cell_type": "markdown",
   "id": "211b5111-1899-4b92-a315-544bc21d721c",
   "metadata": {},
   "source": [
    "#### SQL vs NoSQL Databases"
   ]
  },
  {
   "cell_type": "markdown",
   "id": "b6b75e23-7ea0-4642-9d16-c42b45921a54",
   "metadata": {},
   "source": [
    "- SQL databases are primarily called as Relational Databases (RDBMS); whereas NoSQL database are primarily called as non-relational or distributed database. \n",
    "- In almost all situations SQL databases are vertically scalable. This means that you can increase the load on a single server by increasing things like RAM, CPU or SSD. But on the other hand NoSQL databases are horizontally scalable. This means that you handle more traffic by sharding, or adding more servers in your NoSQL database. It is similar to adding more floors to the same building versus adding more buildings to the neighborhood. Thus NoSQL can ultimately become larger and more powerful, making these databases the preferred choice for large or ever-changing data sets.\n",
    "- SQL databases are table-based on the other hand NoSQL databases are either key-value pairs, document-based, graph databases or wide-column stores. This makes relational SQL databases a better option for applications that require multi-row transactions such as an accounting system or for legacy systems that were built for a relational structure. \n",
    "- SQL databases follow ACID properties (Atomicity, Consistency, Isolation and Durability) whereas the NoSQL database follows the Brewers CAP theorem (Consistency, Availability and Partition tolerance). \n",
    "- Great support is available for all SQL database from their vendors. Also a lot of independent consultations are there who can help you with SQL database for a very large scale deployments but for some NoSQL database you still have to rely on community support and only limited outside experts are available for setting up and deploying your large scale NoSQL deployments. "
   ]
  },
  {
   "cell_type": "markdown",
   "id": "833cec64-430a-4fc3-9bc0-13aa2de929f1",
   "metadata": {},
   "source": [
    "### Q-2) What is DDL? Explain why CREATE, DROP, ALTER, and TRUNCATE are used with an example."
   ]
  },
  {
   "cell_type": "markdown",
   "id": "085326e2-56ee-4b63-831d-9755f4beb145",
   "metadata": {},
   "source": [
    "Data Definition Language (DDL) is a subset of SQL. It is a language for describing data and its relationships in a database. You can generate DDL in a script for database objects to: Keep a snapshot of the database structure. Set up a test system where the database acts like the production system but contains no data."
   ]
  },
  {
   "cell_type": "markdown",
   "id": "28c8bf57-b2d9-482c-844c-57c258d7187f",
   "metadata": {},
   "source": [
    "#### CREATE\n",
    "\n",
    "The CREATE Keyword is used to create a database, table, views, and index. We can create the table CUSTOMER as below:\n",
    "\n",
    "<b>CREATE TABLE CUSTOMER (CUST_ID INT PRIMARY KEY, NAME VARCHAR(50), STATE VARCHAR(20));</b>"
   ]
  },
  {
   "cell_type": "markdown",
   "id": "5de6bc0f-2538-4707-9278-6cb3ec1fa56e",
   "metadata": {},
   "source": [
    "#### DROP\n",
    "\n",
    "The DROP keyword can be used to delete a database, table, view, column, index, etc. A database in SQL can be deleted by using the DROP DATABASE statement:\n",
    "\n",
    "<b>DROP DATABASE DATABASE_NAME;</b>"
   ]
  },
  {
   "cell_type": "markdown",
   "id": "9085103c-79b0-41c0-9db9-6d789c37b7d9",
   "metadata": {},
   "source": [
    "#### ALTER\n",
    "\n",
    "The Keyword ALTER is used to modify the columns in tables. The ALTER COLUMN statement modifies the data type of a column, and the ALTER TABLE modifies the columns by adding or deleting them.\n",
    "\n",
    "We can modify the columns of the CUSTOMER table as below by adding a new column, “AGE”.\n",
    "\n",
    "<b>ALTER TABLE CUSTOMER ADD AGE INT;</b><br>\n",
    "<b>SELECT * FROM CUSTOMER;</b>"
   ]
  },
  {
   "cell_type": "markdown",
   "id": "14dc67c2-2e3a-408b-95e5-e17db32ade43",
   "metadata": {},
   "source": [
    "#### TRUNCATE\n",
    "\n",
    "This is used to delete the data in a table, but it does not delete the structure of the table. The below query only deletes the data, but the structure of the table remains. So there is no need to re-create the table.\n",
    "\n",
    "<b>TRUNCATE TABLE CUSTOMER;</b>"
   ]
  },
  {
   "cell_type": "markdown",
   "id": "6264685c-465a-414d-8614-96f030f195a6",
   "metadata": {},
   "source": [
    "### Q-3) What is DML? Explain INSERT, UPDATE, and DELETE with an example."
   ]
  },
  {
   "cell_type": "markdown",
   "id": "9ad99382-f73b-4e14-90e4-8ac41bc2d6ea",
   "metadata": {},
   "source": [
    "DML is an abbreviation for Data Manipulation Language. Represents a collection of programming languages explicitly used to make changes to the database, such as: CRUD operations to create, read, update and delete data. Using INSERT, SELECT, UPDATE, and DELETE commands."
   ]
  },
  {
   "cell_type": "markdown",
   "id": "47e903f8-91aa-4c03-adfd-751e778b7217",
   "metadata": {},
   "source": [
    "#### INSERT\n",
    "\n",
    "The INSERT Keyword is used to insert the rows of data into a table. We can insert the row below to the already created CUSTOMER table using the query below.\n",
    "\n",
    "<b>INSERT INTO CUSTOMER VALUES (121,'Rajesh','Maharashtra');</b>"
   ]
  },
  {
   "cell_type": "markdown",
   "id": "cc9c9bb6-f1dd-42f7-ba6b-b97076a6784a",
   "metadata": {},
   "source": [
    "#### UPDATE\n",
    "\n",
    "This keyword is used in an SQL statement to update the existing rows in a table.\n",
    "\n",
    "<b>UPDATE CUSTOMER SET STATE ='Rajasthan' WHERE CUST_ID= 121;</b><br>\n",
    "<b>SELECT * FROM CUSTOMER;</b>"
   ]
  },
  {
   "cell_type": "markdown",
   "id": "314739d1-355d-4b56-b8da-f27a8302abdd",
   "metadata": {},
   "source": [
    "#### DELETE\n",
    "\n",
    "This is used to delete the existing rows from a table. The below query will display the below as the row with Name as Rajesh is deleted from the result set.\n",
    "\n",
    "<b>DELETE FROM CUSTOMER WHERE NAME='Rajesh';</b>"
   ]
  },
  {
   "cell_type": "markdown",
   "id": "2218d70b-1b8f-4a27-afec-de45b9dd7416",
   "metadata": {},
   "source": [
    "### Q-4) What is DQL? Explain SELECT with an example."
   ]
  },
  {
   "cell_type": "markdown",
   "id": "2b302cb8-bada-4428-8dfa-f0d784e42660",
   "metadata": {},
   "source": [
    "Data query language (DQL) is part of the base grouping of SQL sub-languages. These sub-languages are mainly categorized into four categories: a data query language (DQL), a data definition language (DDL), a data control language (DCL), and a data manipulation language (DML)."
   ]
  },
  {
   "cell_type": "markdown",
   "id": "ae0707e5-ae57-42d4-9496-8ff2e96b83a8",
   "metadata": {},
   "source": [
    "#### SELECT\n",
    "\n",
    "This keyword is used to select the data from the database or table. The ‘*’ is used in the select statement to select all the columns in a table.\n",
    "\n",
    "<b>SELECT NAME FROM CUSTOMER;</b>\n",
    "\n",
    "The result of the above query will display the column NAME from the CUSTOMER table."
   ]
  },
  {
   "cell_type": "markdown",
   "id": "f1e0631a-1aa0-4c47-8440-6a4d73625c1f",
   "metadata": {},
   "source": [
    "### Q-5) Explain Primary Key and Foreign Key."
   ]
  },
  {
   "cell_type": "markdown",
   "id": "e3df6c64-ea10-4e71-9d90-446495e9d0d1",
   "metadata": {},
   "source": [
    "#### Primary Key\n",
    "\n",
    "Primary key is a column whose value exists and is unique for every records in \n",
    "the table and one table can't have more than one PK and it can't be of null value\n",
    "PK is unique identifier of a table."
   ]
  },
  {
   "cell_type": "markdown",
   "id": "0b2a0744-7d9e-47ee-ac84-fda17c7ddc0f",
   "metadata": {},
   "source": [
    "#### Foreign Key\n",
    "\n",
    "Foreign Key are those column which used to establish relationship of one \n",
    "table to one or more table. One table can have multiple foreign keys."
   ]
  },
  {
   "cell_type": "markdown",
   "id": "d3a3061f-9101-48fc-98b6-4ba523389c40",
   "metadata": {},
   "source": [
    "### Q-6) Write a python code to connect MySQL to python. Explain the cursor() and execute() method."
   ]
  },
  {
   "cell_type": "code",
   "execution_count": null,
   "id": "9d88677a-5853-477f-aad5-90ace715ae10",
   "metadata": {},
   "outputs": [],
   "source": [
    "import mysql.connector\n",
    "mydb = mysql.connector.connect(\n",
    "                host = 'localhost',\n",
    "                user = 'root',\n",
    "                password = 'password')\n",
    "mycursor = mydb.cursor()\n",
    "mycursor.execute('select * from employees.employees')\n",
    "for i in mycursor.fetchall():\n",
    "    print(i)\n",
    "mydb.close()"
   ]
  },
  {
   "cell_type": "markdown",
   "id": "70acdf78-d25b-4652-8847-e2b8d4dcdd59",
   "metadata": {},
   "source": [
    "<b>cursor()</b> is mysql.connector class method used to execute statements & \n",
    "to communicate with mysql database. using cursor we can fetch or execute sql \n",
    "statements.\n",
    "\n",
    "<b>execute()</b> is cursor method object which accept MySql query as a parameter \n",
    "and execute the give query."
   ]
  },
  {
   "cell_type": "markdown",
   "id": "7c8609d8-1682-4efc-af65-e3c56a81b351",
   "metadata": {},
   "source": [
    "### Q-7) Give the order of execution of SQL clauses in an SQL query."
   ]
  },
  {
   "cell_type": "markdown",
   "id": "b6f84714-32f7-46b2-9a3e-1eb9d00c29ce",
   "metadata": {},
   "source": [
    "The order in which the clauses in queries are executed is as follows:\n",
    "\n",
    "1. FROM/JOIN: The FROM and/or JOIN clauses are executed first to determine the data of interest.\n",
    "\n",
    "2. WHERE: The WHERE clause is executed to filter out records that do not meet the constraints.\n",
    "\n",
    "3. GROUP BY: The GROUP BY clause is executed to group the data based on the values in one or more columns.\n",
    "\n",
    "4. HAVING: The HAVING clause is executed to remove the created grouped records that don’t meet the constraints.\n",
    "\n",
    "5. SELECT: The SELECT clause is executed to derive all desired columns and expressions.\n",
    "\n",
    "6. ORDER BY: The ORDER BY clause is executed to sort the derived values in ascending or descending order.\n",
    "\n",
    "7. LIMIT/OFFSET: Finally, the LIMIT and/or OFFSET clauses are executed to keep or skip a specified number of rows."
   ]
  }
 ],
 "metadata": {
  "kernelspec": {
   "display_name": "Python 3 (ipykernel)",
   "language": "python",
   "name": "python3"
  },
  "language_info": {
   "codemirror_mode": {
    "name": "ipython",
    "version": 3
   },
   "file_extension": ".py",
   "mimetype": "text/x-python",
   "name": "python",
   "nbconvert_exporter": "python",
   "pygments_lexer": "ipython3",
   "version": "3.10.8"
  }
 },
 "nbformat": 4,
 "nbformat_minor": 5
}
