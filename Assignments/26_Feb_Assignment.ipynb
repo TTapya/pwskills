{
 "cells": [
  {
   "cell_type": "markdown",
   "id": "9b2f269c-f33d-43e6-ab37-4515425eb7d7",
   "metadata": {},
   "source": [
    "<h1><center>Assignment</center></h1>"
   ]
  },
  {
   "cell_type": "markdown",
   "id": "5f60620d-5914-4960-8eb9-7cd972fddcde",
   "metadata": {},
   "source": [
    "### Consider the below code to answer further questions:"
   ]
  },
  {
   "cell_type": "code",
   "execution_count": 1,
   "id": "6c08dffe-10ec-4862-8a05-57703a5a99cf",
   "metadata": {},
   "outputs": [],
   "source": [
    "import numpy as np\n",
    "list_ = [1, 2, 3, 4, 5]\n",
    "array_list = np.array(object = list_)"
   ]
  },
  {
   "cell_type": "markdown",
   "id": "3fe6527c-407a-4406-9c1b-39379b707d1c",
   "metadata": {},
   "source": [
    "### Q1. Is there any difference in the data type of variables list_ and array_list? If there is then write a code to print the data types of both the variables."
   ]
  },
  {
   "cell_type": "code",
   "execution_count": 2,
   "id": "940e3789-d301-4b35-a1b0-e45353ed6296",
   "metadata": {},
   "outputs": [
    {
     "name": "stdout",
     "output_type": "stream",
     "text": [
      "<class 'list'>\n",
      "<class 'numpy.ndarray'>\n"
     ]
    }
   ],
   "source": [
    "print(type(list_))\n",
    "print(type(array_list))"
   ]
  },
  {
   "cell_type": "markdown",
   "id": "7b1c9b86-bf15-449d-b0a0-3313716b87f7",
   "metadata": {},
   "source": [
    "### Q2. Write a code to print the data type of each and every element of both the variables list_ and array_list."
   ]
  },
  {
   "cell_type": "code",
   "execution_count": 3,
   "id": "95d3937e-e476-4660-b2fa-fafefe4d1900",
   "metadata": {},
   "outputs": [
    {
     "name": "stdout",
     "output_type": "stream",
     "text": [
      "<class 'int'>\n",
      "<class 'int'>\n",
      "<class 'int'>\n",
      "<class 'int'>\n",
      "<class 'int'>\n",
      "<class 'numpy.int64'>\n",
      "<class 'numpy.int64'>\n",
      "<class 'numpy.int64'>\n",
      "<class 'numpy.int64'>\n",
      "<class 'numpy.int64'>\n"
     ]
    }
   ],
   "source": [
    "for i in list_:\n",
    "    print(type(i))\n",
    "for i in array_list:\n",
    "    print(type(i))"
   ]
  },
  {
   "cell_type": "markdown",
   "id": "e6ac2409-876d-4eda-9eb0-31ba9f5884df",
   "metadata": {},
   "source": [
    "### Q3. Considering the following changes in the variable, array_list:"
   ]
  },
  {
   "cell_type": "code",
   "execution_count": 4,
   "id": "9bc13b53-fb0b-4c34-a96c-fab0f31dc284",
   "metadata": {},
   "outputs": [],
   "source": [
    "array_list = np.array(object = list_, dtype = int)"
   ]
  },
  {
   "cell_type": "markdown",
   "id": "4df4f909-d6a8-4279-878f-a2f3401ea5e1",
   "metadata": {},
   "source": [
    "Will there be any difference in the data type of the elements present in both the variables, list_ and array_list? If so then print the data types of each and every element present in both the variables, list_ and array_list."
   ]
  },
  {
   "cell_type": "code",
   "execution_count": 5,
   "id": "c4db2e9c-920e-4316-92e2-4567a5f4d6e9",
   "metadata": {},
   "outputs": [
    {
     "name": "stdout",
     "output_type": "stream",
     "text": [
      "<class 'int'>\n",
      "<class 'int'>\n",
      "<class 'int'>\n",
      "<class 'int'>\n",
      "<class 'int'>\n",
      "<class 'numpy.int64'>\n",
      "<class 'numpy.int64'>\n",
      "<class 'numpy.int64'>\n",
      "<class 'numpy.int64'>\n",
      "<class 'numpy.int64'>\n"
     ]
    }
   ],
   "source": [
    "for i in list_:\n",
    "    print(type(i))\n",
    "for i in array_list:\n",
    "    print(type(i))"
   ]
  },
  {
   "cell_type": "markdown",
   "id": "200da789-dee5-41ab-b369-ea643fef2b14",
   "metadata": {},
   "source": [
    "### Consider the below code to answer further questions:"
   ]
  },
  {
   "cell_type": "code",
   "execution_count": 6,
   "id": "06da6040-5602-4a76-ab8f-2661833c0a57",
   "metadata": {},
   "outputs": [
    {
     "data": {
      "text/plain": [
       "array([[1, 2, 3],\n",
       "       [4, 5, 6]])"
      ]
     },
     "execution_count": 6,
     "metadata": {},
     "output_type": "execute_result"
    }
   ],
   "source": [
    "import numpy as np\n",
    "num_list = [ [ 1 , 2 , 3 ] , [ 4 , 5 , 6 ] ]\n",
    "num_array = np.array(object = num_list)\n",
    "num_array"
   ]
  },
  {
   "cell_type": "markdown",
   "id": "0ab56952-96ef-4ce0-844a-96d9807bfea0",
   "metadata": {},
   "source": [
    "Q4. Write a code to find the following characteristics of variable, num_array:\n",
    "- shape\n",
    "- size"
   ]
  },
  {
   "cell_type": "code",
   "execution_count": 7,
   "id": "71254fbc-4a6a-4e0c-be9e-8865f07f74d8",
   "metadata": {},
   "outputs": [
    {
     "name": "stdout",
     "output_type": "stream",
     "text": [
      "(2, 3)\n",
      "6\n"
     ]
    }
   ],
   "source": [
    "print(num_array.shape)\n",
    "print(num_array.size)"
   ]
  },
  {
   "cell_type": "markdown",
   "id": "d6171022-4b3f-4612-afc3-57f22a0999ec",
   "metadata": {},
   "source": [
    "### Q5. Write a code to create numpy array of 3*3 matrix containing zeros only, using a numpy array creation function.\n",
    "[Hint: The size of the array will be 9 and the shape will be (3,3).]"
   ]
  },
  {
   "cell_type": "code",
   "execution_count": 8,
   "id": "870de839-3a43-45c2-aebc-a771691c6077",
   "metadata": {},
   "outputs": [
    {
     "data": {
      "text/plain": [
       "array([[0., 0., 0.],\n",
       "       [0., 0., 0.],\n",
       "       [0., 0., 0.]])"
      ]
     },
     "execution_count": 8,
     "metadata": {},
     "output_type": "execute_result"
    }
   ],
   "source": [
    "zeros_arr = np.zeros((3, 3))\n",
    "zeros_arr"
   ]
  },
  {
   "cell_type": "markdown",
   "id": "9ef96894-7053-422c-8774-14dcaad0ff89",
   "metadata": {},
   "source": [
    "### Q6. Create an identity matrix of shape (5,5) using numpy functions?\n",
    "[Hint: An identity matrix is a matrix containing 1 diagonally and other elements will be 0.]"
   ]
  },
  {
   "cell_type": "code",
   "execution_count": 9,
   "id": "79ca56ae-9bbd-4064-8b84-fd2f8ddcdf7f",
   "metadata": {},
   "outputs": [
    {
     "name": "stdout",
     "output_type": "stream",
     "text": [
      "[[1. 0. 0. 0. 0.]\n",
      " [0. 1. 0. 0. 0.]\n",
      " [0. 0. 1. 0. 0.]\n",
      " [0. 0. 0. 1. 0.]\n",
      " [0. 0. 0. 0. 1.]]\n"
     ]
    }
   ],
   "source": [
    "identity_matrix = np.identity(5)\n",
    "print(identity_matrix)"
   ]
  }
 ],
 "metadata": {
  "kernelspec": {
   "display_name": "Python 3 (ipykernel)",
   "language": "python",
   "name": "python3"
  },
  "language_info": {
   "codemirror_mode": {
    "name": "ipython",
    "version": 3
   },
   "file_extension": ".py",
   "mimetype": "text/x-python",
   "name": "python",
   "nbconvert_exporter": "python",
   "pygments_lexer": "ipython3",
   "version": "3.10.8"
  }
 },
 "nbformat": 4,
 "nbformat_minor": 5
}
