{
 "cells": [
  {
   "cell_type": "markdown",
   "id": "1285c2f9",
   "metadata": {},
   "source": [
    "<h1><center>Assignment</center></h1>"
   ]
  },
  {
   "cell_type": "markdown",
   "id": "b8d8ad42",
   "metadata": {},
   "source": [
    "### Q-1) Create a vehicle class with an init method having instance variables as name_of_vehicle, max_speed and average_of_vehicle."
   ]
  },
  {
   "cell_type": "code",
   "execution_count": 38,
   "id": "d37c1559",
   "metadata": {},
   "outputs": [],
   "source": [
    "class Vehicle:\n",
    "    def __init__(self, vehicle, max_speed, average):\n",
    "        self.__name_of_vehicle = vehicle\n",
    "        self.__max_speed = max_speed\n",
    "        self.__average_of_vehicle = average\n",
    "    def get_vehicle_name(self):\n",
    "        return self.__name_of_vehicle"
   ]
  },
  {
   "cell_type": "markdown",
   "id": "78331412",
   "metadata": {},
   "source": [
    "### Q-2) Create a child class car from the vehicle class created in Que 1, which will inherit the vehicle class. Create a method named seating_capacity which takes capacity as an argument and returns the name of the vehicle and its seating capacity."
   ]
  },
  {
   "cell_type": "code",
   "execution_count": 40,
   "id": "ddd62bab",
   "metadata": {},
   "outputs": [
    {
     "data": {
      "text/plain": [
       "('Range Rover', 6)"
      ]
     },
     "execution_count": 40,
     "metadata": {},
     "output_type": "execute_result"
    }
   ],
   "source": [
    "class Car(Vehicle):\n",
    "    def seating_capacity(self, capacity):\n",
    "        return (Vehicle.get_vehicle_name(self), capacity)\n",
    "    \n",
    "c = Car(\"Range Rover\", 250, 10.34)\n",
    "c.seating_capacity(6)"
   ]
  },
  {
   "cell_type": "markdown",
   "id": "391b32c8",
   "metadata": {},
   "source": [
    "### Q-3) What is multiple inheritance? Write a python code to demonstrate multiple inheritance."
   ]
  },
  {
   "cell_type": "markdown",
   "id": "03740e26",
   "metadata": {},
   "source": [
    "When a class is derived from more than one base class it is called multiple Inheritance. The derived class inherits all the features of the base classes."
   ]
  },
  {
   "cell_type": "code",
   "execution_count": 19,
   "id": "cb12b23d",
   "metadata": {},
   "outputs": [
    {
     "data": {
      "text/plain": [
       "'Parents: Joseph and Mary'"
      ]
     },
     "execution_count": 19,
     "metadata": {},
     "output_type": "execute_result"
    }
   ],
   "source": [
    "class Dad:\n",
    "    father = \"Joseph\"\n",
    "\n",
    "class Mom:\n",
    "    mother = \"Mary\"\n",
    "\n",
    "class Child(Dad, Mom):\n",
    "    def parents(self):\n",
    "        return (f\"Parents: {self.father} and {self.mother}\")\n",
    "\n",
    "son = Child()\n",
    "son.parents()"
   ]
  },
  {
   "cell_type": "markdown",
   "id": "27b640be",
   "metadata": {},
   "source": [
    "### Q-4) What are getter and setter in python? Create a class and create a getter and a setter method in this class."
   ]
  },
  {
   "cell_type": "code",
   "execution_count": 15,
   "id": "9605d638",
   "metadata": {},
   "outputs": [
    {
     "name": "stdout",
     "output_type": "stream",
     "text": [
      "0\n",
      "Value Changed\n",
      "1000\n"
     ]
    }
   ],
   "source": [
    "class Test:\n",
    "    def __init__(self):\n",
    "        self.__value = 0\n",
    "    def set_value(self, value):\n",
    "        self.__value = value\n",
    "        print(\"Value Changed\")\n",
    "    def get_value(self):\n",
    "        return self.__value\n",
    "    \n",
    "t = Test()\n",
    "print(t.get_value())\n",
    "t.set_value(1000)\n",
    "print(t.get_value())"
   ]
  },
  {
   "cell_type": "markdown",
   "id": "20b32353",
   "metadata": {},
   "source": [
    "### Q-5) What is method overriding in python? Write a python code to demonstrate method overriding."
   ]
  },
  {
   "cell_type": "code",
   "execution_count": 28,
   "id": "4cd73a5b",
   "metadata": {},
   "outputs": [
    {
     "name": "stdout",
     "output_type": "stream",
     "text": [
      "Called from Parent Class\n",
      "Called from Child Class\n"
     ]
    }
   ],
   "source": [
    "class Parent:\n",
    "    def fun(self):\n",
    "        print(\"Called from Parent Class\")\n",
    "\n",
    "class Child(Parent):\n",
    "    def fun(self):\n",
    "        print(\"Called from Child Class\")\n",
    "\n",
    "child_obj = Child()        \n",
    "parent_obj = Parent()\n",
    "\n",
    "parent_obj.fun()\n",
    "child_obj.fun() # Overrriden"
   ]
  }
 ],
 "metadata": {
  "kernelspec": {
   "display_name": "Python 3",
   "language": "python",
   "name": "python3"
  },
  "language_info": {
   "codemirror_mode": {
    "name": "ipython",
    "version": 3
   },
   "file_extension": ".py",
   "mimetype": "text/x-python",
   "name": "python",
   "nbconvert_exporter": "python",
   "pygments_lexer": "ipython3",
   "version": "3.8.8"
  }
 },
 "nbformat": 4,
 "nbformat_minor": 5
}
