{
 "cells": [
  {
   "cell_type": "markdown",
   "id": "b14d576b",
   "metadata": {},
   "source": [
    "<h1><center>Assignment</center></h1>"
   ]
  },
  {
   "cell_type": "markdown",
   "id": "e9eb57dc",
   "metadata": {},
   "source": [
    "### Q-1) What are the characteristics of the tuples? Is tuple immutable?"
   ]
  },
  {
   "cell_type": "markdown",
   "id": "710d1c73",
   "metadata": {},
   "source": [
    "Tuples are used to store multiple items in a single variable.<br>\n",
    "Tuple is one of 4 built-in data types in Python used to store collections of data, the other 3 are List, Set, and Dictionary, all with different qualities and usage.<br>\n",
    "A tuple is a collection which is ordered and unchangeable.<br>\n",
    "Tuples are written with round brackets.<br>\n",
    "Tuples and lists are the same in every way except two: <br>\n",
    "tuples use parentheses instead of square brackets, and the items in tuples cannot be modified (but the items in lists can be modified).<br>\n",
    "We often call lists <b>mutable</b> (meaning they can be changed) and tuples <b>immutable</b> (meaning they cannot be changed).<br>\n",
    "Example of <b>Immutability</b> in tuples:"
   ]
  },
  {
   "cell_type": "code",
   "execution_count": 69,
   "id": "e2c3eea3",
   "metadata": {},
   "outputs": [
    {
     "name": "stdout",
     "output_type": "stream",
     "text": [
      "<class 'tuple'>\n"
     ]
    }
   ],
   "source": [
    "t = (23, 'x', True, 5, 3, 77, 23)\n",
    "print(type(t))"
   ]
  },
  {
   "cell_type": "code",
   "execution_count": 35,
   "id": "177daa96",
   "metadata": {},
   "outputs": [
    {
     "ename": "TypeError",
     "evalue": "'tuple' object does not support item assignment",
     "output_type": "error",
     "traceback": [
      "\u001b[1;31m---------------------------------------------------------------------------\u001b[0m",
      "\u001b[1;31mTypeError\u001b[0m                                 Traceback (most recent call last)",
      "\u001b[1;32m<ipython-input-35-c8aeb8cd20ae>\u001b[0m in \u001b[0;36m<module>\u001b[1;34m\u001b[0m\n\u001b[1;32m----> 1\u001b[1;33m \u001b[0mt\u001b[0m\u001b[1;33m[\u001b[0m\u001b[1;36m0\u001b[0m\u001b[1;33m]\u001b[0m \u001b[1;33m=\u001b[0m \u001b[1;36m1\u001b[0m\u001b[1;33m\u001b[0m\u001b[1;33m\u001b[0m\u001b[0m\n\u001b[0m",
      "\u001b[1;31mTypeError\u001b[0m: 'tuple' object does not support item assignment"
     ]
    }
   ],
   "source": [
    "t[0] = 1"
   ]
  },
  {
   "cell_type": "markdown",
   "id": "9e4f7c12",
   "metadata": {},
   "source": [
    "### Q-2) What are the two tuple methods in python? Give an example of each method. Give a reason why tuples have only two in-built methods as compared to Lists."
   ]
  },
  {
   "cell_type": "markdown",
   "id": "3d0f39c1",
   "metadata": {},
   "source": [
    "Tuples only have two built-in methods, namely <b>count()</b> and <b>index()</b>"
   ]
  },
  {
   "cell_type": "markdown",
   "id": "caecc94e",
   "metadata": {},
   "source": [
    "<b>count()</b>: Returns the number of times a specified value occurs in a tuple"
   ]
  },
  {
   "cell_type": "code",
   "execution_count": 36,
   "id": "b7a45275",
   "metadata": {},
   "outputs": [
    {
     "data": {
      "text/plain": [
       "2"
      ]
     },
     "execution_count": 36,
     "metadata": {},
     "output_type": "execute_result"
    }
   ],
   "source": [
    "t.count(23)"
   ]
  },
  {
   "cell_type": "markdown",
   "id": "66f80650",
   "metadata": {},
   "source": [
    "<b>index()</b>: Searches the tuple for a specified value and returns the position of where it was found"
   ]
  },
  {
   "cell_type": "code",
   "execution_count": 37,
   "id": "faf675c0",
   "metadata": {},
   "outputs": [
    {
     "data": {
      "text/plain": [
       "5"
      ]
     },
     "execution_count": 37,
     "metadata": {},
     "output_type": "execute_result"
    }
   ],
   "source": [
    "t.index(77)"
   ]
  },
  {
   "cell_type": "markdown",
   "id": "2964103f",
   "metadata": {},
   "source": [
    "As tuples are immutable, therefore, list methods like <b>map()</b> and <b>pop()</b> which are supposed to change the list which is not possible in case tuples. Hence, only <b>index()</b> and <b>count()</b> are useful for tuples."
   ]
  },
  {
   "cell_type": "markdown",
   "id": "a42d203b",
   "metadata": {},
   "source": [
    "### Q-3) Which collection datatypes in python do not allow duplicate items? Write a code using a set to remove duplicates from the given list -> [1, 1, 1, 2, 1, 3, 1, 4, 2, 1, 2, 2, 2, 3, 2, 4, 3, 1, 3, 2, 3, 3, 3, 4, 4, 1, 4, 2, 4, 3, 4, 4]"
   ]
  },
  {
   "cell_type": "markdown",
   "id": "13397937",
   "metadata": {},
   "source": [
    "<b>Sets</b> are a collection that is unordered and unindexed. They are mutable (changeable) but do not allow duplicate values to be held."
   ]
  },
  {
   "cell_type": "code",
   "execution_count": 52,
   "id": "30b075a6",
   "metadata": {},
   "outputs": [
    {
     "name": "stdout",
     "output_type": "stream",
     "text": [
      "{1, 2, 3, 4, 5} <class 'set'>\n"
     ]
    }
   ],
   "source": [
    "s = {1, 2, 2, 3, 3, 4, 4, 5}\n",
    "print(s, type(s)) # Duplicates are gone"
   ]
  },
  {
   "cell_type": "markdown",
   "id": "0a5f64ac",
   "metadata": {},
   "source": [
    "#### Removing duplicates from a list:"
   ]
  },
  {
   "cell_type": "code",
   "execution_count": 46,
   "id": "f08c5f1e",
   "metadata": {},
   "outputs": [
    {
     "data": {
      "text/plain": [
       "[1, 2, 3, 4]"
      ]
     },
     "execution_count": 46,
     "metadata": {},
     "output_type": "execute_result"
    }
   ],
   "source": [
    "l1 = [1, 1, 1, 2, 1, 3, 1, 4, 2, 1, 2, 2, 2, 3, 2, 4, 3, 1, 3, 2, 3, 3, 3, 4, 4, 1, 4, 2, 4, 3, 4, 4]\n",
    "s1 = set(l1)\n",
    "l2 = list(s1)\n",
    "l2"
   ]
  },
  {
   "cell_type": "markdown",
   "id": "41b97a84",
   "metadata": {},
   "source": [
    "### Q-4) Explain the difference between the union() and update() methods for a set. Give an example of each method."
   ]
  },
  {
   "cell_type": "markdown",
   "id": "6d0255a5",
   "metadata": {},
   "source": [
    "They are very different. <b>update()</b> changes the set in place, while <b>union()</b> leaves the original set alone, and returns a copy instead."
   ]
  },
  {
   "cell_type": "code",
   "execution_count": 76,
   "id": "7f050825",
   "metadata": {},
   "outputs": [
    {
     "name": "stdout",
     "output_type": "stream",
     "text": [
      "{'google', 'banana', 'cherry', 'apple', 'microsoft'}\n",
      "set x:  {'banana', 'cherry', 'apple'}\n"
     ]
    }
   ],
   "source": [
    "x = {\"apple\", \"banana\", \"cherry\"}\n",
    "y = {\"google\", \"microsoft\", \"apple\"}\n",
    "\n",
    "print(x.union(y))\n",
    "print('set x: ', x)"
   ]
  },
  {
   "cell_type": "code",
   "execution_count": 77,
   "id": "b9fe9460",
   "metadata": {},
   "outputs": [
    {
     "name": "stdout",
     "output_type": "stream",
     "text": [
      "None\n",
      "set x: {'google', 'banana', 'cherry', 'apple', 'microsoft'}\n"
     ]
    }
   ],
   "source": [
    "x = {\"apple\", \"banana\", \"cherry\"}\n",
    "y = {\"google\", \"microsoft\", \"apple\"}\n",
    "\n",
    "print(x.update(y))\n",
    "print('set x:', x)"
   ]
  },
  {
   "cell_type": "markdown",
   "id": "993b05ea",
   "metadata": {},
   "source": [
    "### Q-5) What is a dictionary? Give an example. Also, state whether a dictionary is ordered or unordered."
   ]
  },
  {
   "cell_type": "markdown",
   "id": "13efbc71",
   "metadata": {},
   "source": [
    "Unlike sequences, which are indexed by a range of numbers, dictionaries are indexed by keys, which can be any immutable type; strings and numbers can always be keys. Tuples can be used as keys if they contain only strings, numbers, or tuples; if a tuple contains any mutable object either directly or indirectly, it cannot be used as a key. You can’t use lists as keys, since lists can be modified in place using index assignments, slice assignments, or methods like append() and extend().\n",
    "\n",
    "As of Python version 3.7, dictionaries are <b>ordered</b>. In Python 3.6 and earlier, dictionaries are <b>unordered</b>. When we say that dictionaries are ordered, it means that the items have a defined order, and that order will not change."
   ]
  },
  {
   "cell_type": "code",
   "execution_count": 68,
   "id": "93320ed8",
   "metadata": {},
   "outputs": [
    {
     "name": "stdout",
     "output_type": "stream",
     "text": [
      "{'brand': 'Ford', 'model': 'Mustang', 'year': 1964}\n",
      "<class 'dict'>\n"
     ]
    }
   ],
   "source": [
    "d = {\n",
    "  \"brand\": \"Ford\",\n",
    "  \"model\": \"Mustang\",\n",
    "  \"year\": 1964\n",
    "}\n",
    "\n",
    "print(d)\n",
    "print(type(d))"
   ]
  },
  {
   "cell_type": "markdown",
   "id": "d1a7344a",
   "metadata": {},
   "source": [
    "### Q-6) Can we create a nested dictionary? If so, please give an example by creating a simple one-level nested dictionary."
   ]
  },
  {
   "cell_type": "markdown",
   "id": "b49a7538",
   "metadata": {},
   "source": [
    "<b>Yes</b>, we can create a nested dictionary."
   ]
  },
  {
   "cell_type": "code",
   "execution_count": 57,
   "id": "e8999641",
   "metadata": {},
   "outputs": [
    {
     "name": "stdout",
     "output_type": "stream",
     "text": [
      "{'a': 1, 'b': 2, 'c': {'d': 3, 'e': 4}}\n"
     ]
    }
   ],
   "source": [
    "d = {\n",
    "    'a': 1,\n",
    "    'b': 2,\n",
    "    'c': {\n",
    "        'd': 3,\n",
    "        'e': 4\n",
    "    }\n",
    "}\n",
    "\n",
    "print(d)"
   ]
  },
  {
   "cell_type": "markdown",
   "id": "5c6f6d2b",
   "metadata": {},
   "source": [
    "### Q-7) Using setdefault() method, create key named topics in the given dictionary and also add the value of the  key as this list ['Python', 'Machine Learning’, 'Deep Learning']\n",
    "\n",
    "### dict1 = {'language' : 'Python', 'course': 'Data Science Masters'}"
   ]
  },
  {
   "cell_type": "code",
   "execution_count": 60,
   "id": "7b6c234f",
   "metadata": {},
   "outputs": [
    {
     "name": "stdout",
     "output_type": "stream",
     "text": [
      "{'language': 'Python', 'course': 'Data Science Masters', 'topics': ['Python', 'Machine Learning', 'Deep Learning']}\n"
     ]
    }
   ],
   "source": [
    "dict1 = {'language' : 'Python', 'course': 'Data Science Masters'}\n",
    "dict1.setdefault('topics', ['Python', 'Machine Learning', 'Deep Learning'])\n",
    "print(dict1)"
   ]
  },
  {
   "cell_type": "markdown",
   "id": "4c2ab9de",
   "metadata": {},
   "source": [
    "### Q-8) What are the three view objects in dictionaries? Use the three in-built methods in python to display these three view objects for the given dictionary.\n",
    "\n",
    "### dict1 = {'Sport': 'Cricket' , 'Teams': ['India', 'Australia', 'England', 'South Africa', 'Sri Lanka', 'New Zealand']}"
   ]
  },
  {
   "cell_type": "markdown",
   "id": "7afd3861",
   "metadata": {},
   "source": [
    "The objects returned by <b>dict.keys()</b>, <b>dict.values()</b> and <b>dict.items()</b> are view objects.<br>\n",
    "They provide a dynamic view on the dictionary’s entries, which means that when the dictionary changes, the view reflects these changes."
   ]
  },
  {
   "cell_type": "code",
   "execution_count": 62,
   "id": "af532986",
   "metadata": {},
   "outputs": [],
   "source": [
    "dict1 = {'Sport': 'Cricket' ,\n",
    "         'Teams': ['India', 'Australia', 'England', 'South Africa', 'Sri Lanka', 'New Zealand']}"
   ]
  },
  {
   "cell_type": "code",
   "execution_count": 63,
   "id": "14b18463",
   "metadata": {},
   "outputs": [
    {
     "data": {
      "text/plain": [
       "dict_keys(['Sport', 'Teams'])"
      ]
     },
     "execution_count": 63,
     "metadata": {},
     "output_type": "execute_result"
    }
   ],
   "source": [
    "dict1.keys()"
   ]
  },
  {
   "cell_type": "code",
   "execution_count": 64,
   "id": "3a035f3a",
   "metadata": {},
   "outputs": [
    {
     "data": {
      "text/plain": [
       "dict_values(['Cricket', ['India', 'Australia', 'England', 'South Africa', 'Sri Lanka', 'New Zealand']])"
      ]
     },
     "execution_count": 64,
     "metadata": {},
     "output_type": "execute_result"
    }
   ],
   "source": [
    "dict1.values()"
   ]
  },
  {
   "cell_type": "code",
   "execution_count": 65,
   "id": "18436da1",
   "metadata": {},
   "outputs": [
    {
     "data": {
      "text/plain": [
       "dict_items([('Sport', 'Cricket'), ('Teams', ['India', 'Australia', 'England', 'South Africa', 'Sri Lanka', 'New Zealand'])])"
      ]
     },
     "execution_count": 65,
     "metadata": {},
     "output_type": "execute_result"
    }
   ],
   "source": [
    "dict1.items()"
   ]
  },
  {
   "cell_type": "code",
   "execution_count": null,
   "id": "7b444410",
   "metadata": {},
   "outputs": [],
   "source": []
  }
 ],
 "metadata": {
  "kernelspec": {
   "display_name": "Python 3",
   "language": "python",
   "name": "python3"
  },
  "language_info": {
   "codemirror_mode": {
    "name": "ipython",
    "version": 3
   },
   "file_extension": ".py",
   "mimetype": "text/x-python",
   "name": "python",
   "nbconvert_exporter": "python",
   "pygments_lexer": "ipython3",
   "version": "3.8.8"
  }
 },
 "nbformat": 4,
 "nbformat_minor": 5
}
