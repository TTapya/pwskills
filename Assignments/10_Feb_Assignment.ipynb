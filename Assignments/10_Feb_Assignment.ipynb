{
 "cells": [
  {
   "cell_type": "markdown",
   "id": "67d0d371",
   "metadata": {},
   "source": [
    "<h1><center>Assignment</center></h1>"
   ]
  },
  {
   "cell_type": "markdown",
   "id": "8a56a103",
   "metadata": {},
   "source": [
    "### Q-1) Which function is used to open a file? What are the different modes of opening a file? Explain each mode of file opening."
   ]
  },
  {
   "cell_type": "markdown",
   "id": "93dcefeb",
   "metadata": {},
   "source": [
    "open() is used to open a file."
   ]
  },
  {
   "cell_type": "markdown",
   "id": "462e1cee",
   "metadata": {},
   "source": [
    "#### There are many modes to open a file in Python:\n",
    "\n",
    "- r  - Open a file for reading. (deafult)\n",
    "- w  - Open a file for writing. Creates a new file if it does not exist or truncates the file if it exists.\n",
    "- x  - Open a file for exclusive creation. If the file already exists, the operation fails.\n",
    "- a  - Open a file for appending at the end of the file without truncating it. Creates a new file if it does not exist.\n",
    "- t  - Open in text mode. (default)\n",
    "- b  - Open in binary mode.\n",
    "- \\+ - Open a file for updating (reading and writing)"
   ]
  },
  {
   "cell_type": "markdown",
   "id": "9439367d",
   "metadata": {},
   "source": [
    "### Q-2) Why close() function is used? Why is it important to close a file?"
   ]
  },
  {
   "cell_type": "markdown",
   "id": "c9f63dd8",
   "metadata": {},
   "source": [
    "Closing a file will free up the resources that were tied with the file which is done using the close() method in Python.\n",
    "\n",
    "It is important that we close the file after using it because files are limited resources managed by the operating system, making sure files are closed after use will protect against hard-to-debug issues like running out of file handles or experiencing corrupted data."
   ]
  },
  {
   "cell_type": "markdown",
   "id": "fb1509cf",
   "metadata": {},
   "source": [
    "### Q-3) Write a python program to create a text file. Write ‘I want to become a Data Scientist’ in that file. Then close the file. Open this file and read the content of the file."
   ]
  },
  {
   "cell_type": "code",
   "execution_count": 1,
   "id": "3135a617",
   "metadata": {},
   "outputs": [],
   "source": [
    "f = open('q3.txt', 'w')\n",
    "f.write('I want to become a Data Scientist')\n",
    "f.close()"
   ]
  },
  {
   "cell_type": "markdown",
   "id": "6ed84b74",
   "metadata": {},
   "source": [
    "### Q-4) Explain the following with python code: read(), readline() and readlines()."
   ]
  },
  {
   "cell_type": "markdown",
   "id": "bacc5168",
   "metadata": {},
   "source": [
    "<b>readline()</b> reads one line at a time:"
   ]
  },
  {
   "cell_type": "code",
   "execution_count": 2,
   "id": "49ebf4a5",
   "metadata": {},
   "outputs": [
    {
     "name": "stdout",
     "output_type": "stream",
     "text": [
      "1) This is a test file\n",
      "2) With multiple lines of data...\n"
     ]
    }
   ],
   "source": [
    "with open('test.txt', 'r') as f:\n",
    "    print(f.readline(), end='')\n",
    "    print(f.readline(), end='')"
   ]
  },
  {
   "cell_type": "markdown",
   "id": "46b5e926",
   "metadata": {},
   "source": [
    "<b>readlines()</b> creates a list of strings where each string is a line in the file:"
   ]
  },
  {
   "cell_type": "code",
   "execution_count": 3,
   "id": "fe4ed1b8",
   "metadata": {},
   "outputs": [
    {
     "name": "stdout",
     "output_type": "stream",
     "text": [
      "['1) This is a test file\\n', '2) With multiple lines of data...\\n', '3) Third line\\n', '4) Fourth line\\n', '5) Fifth line\\n', '6) Sixth line\\n', '7) Seventh line\\n', '8) Eighth line\\n', '9) Ninth line\\n', '10) Tenth line']\n"
     ]
    }
   ],
   "source": [
    "with open('test.txt', 'r') as f:\n",
    "    print(f.readlines())"
   ]
  },
  {
   "cell_type": "markdown",
   "id": "af3be757",
   "metadata": {},
   "source": [
    "<b>read()</b> reads the entire file:"
   ]
  },
  {
   "cell_type": "code",
   "execution_count": 4,
   "id": "d173b66a",
   "metadata": {},
   "outputs": [
    {
     "name": "stdout",
     "output_type": "stream",
     "text": [
      "1) This is a test file\n",
      "2) With multiple lines of data...\n",
      "3) Third line\n",
      "4) Fourth line\n",
      "5) Fifth line\n",
      "6) Sixth line\n",
      "7) Seventh line\n",
      "8) Eighth line\n",
      "9) Ninth line\n",
      "10) Tenth line\n"
     ]
    }
   ],
   "source": [
    "with open('test.txt', 'r') as f:\n",
    "    print(f.read())"
   ]
  },
  {
   "cell_type": "markdown",
   "id": "40581fbe",
   "metadata": {},
   "source": [
    "### Q-5) Explain why with statement is used with open(). What is the advantage of using with statement and open() together?"
   ]
  },
  {
   "cell_type": "markdown",
   "id": "fb6b5973",
   "metadata": {},
   "source": [
    "The <b>with</b> statement works with the open() function to open a file. Unlike open() where you have to close the file with the close() method, the <b>with</b> statement closes the file for you without you telling it to. This is because the <b>with</b> statement calls 2 built-in methods behind the scene – __enter()__ and __exit()__."
   ]
  },
  {
   "cell_type": "markdown",
   "id": "e680facc",
   "metadata": {},
   "source": [
    "### Q-6) Explain the write() and writelines() functions. Give a suitable example."
   ]
  },
  {
   "cell_type": "markdown",
   "id": "de053dd1",
   "metadata": {},
   "source": [
    "<b>write()</b> - writes the string s to the file and returns the number of characters written"
   ]
  },
  {
   "cell_type": "code",
   "execution_count": 5,
   "id": "5e964f76",
   "metadata": {},
   "outputs": [],
   "source": [
    "with open('q61.txt', 'w') as f:\n",
    "    f.write('I want to become a Data Scientist')"
   ]
  },
  {
   "cell_type": "markdown",
   "id": "7dc8afc3",
   "metadata": {},
   "source": [
    "<b>writelines()</b> - writes a list of lines to the file"
   ]
  },
  {
   "cell_type": "code",
   "execution_count": 6,
   "id": "9635685e",
   "metadata": {},
   "outputs": [],
   "source": [
    "with open('q62.txt', 'w') as f:\n",
    "    f.writelines(['I', 'want', 'to', 'become', 'a', 'Data', 'Scientist'])"
   ]
  }
 ],
 "metadata": {
  "kernelspec": {
   "display_name": "Python 3",
   "language": "python",
   "name": "python3"
  },
  "language_info": {
   "codemirror_mode": {
    "name": "ipython",
    "version": 3
   },
   "file_extension": ".py",
   "mimetype": "text/x-python",
   "name": "python",
   "nbconvert_exporter": "python",
   "pygments_lexer": "ipython3",
   "version": "3.8.8"
  }
 },
 "nbformat": 4,
 "nbformat_minor": 5
}
