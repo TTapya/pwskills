{
 "cells": [
  {
   "cell_type": "markdown",
   "id": "7ef67e1a-b4e2-4f33-9a45-69824837f947",
   "metadata": {},
   "source": [
    "<h1><center>Assignment</center></h1>"
   ]
  },
  {
   "cell_type": "markdown",
   "id": "0565a391-49a9-4c83-9fe3-4f3c8fc5ca50",
   "metadata": {},
   "source": [
    "### Q1. What is Web Scraping? Why is it Used? Give three areas where Web Scraping is used to get data."
   ]
  },
  {
   "cell_type": "markdown",
   "id": "77191a51-afa0-4884-9764-0c3ee6d711fb",
   "metadata": {},
   "source": [
    "Web scraping is the process of using bots to extract content and data from a website. Unlike screen scraping, which only copies pixels displayed onscreen, web scraping extracts underlying HTML code and, with it, data stored in a database. The scraper can then replicate entire website content elsewhere.\n",
    "\n",
    "Some of the main use cases of web scraping include price monitoring, price intelligence, news monitoring, lead generation, and market research among many others.\n",
    "\n",
    "Examples:\n",
    "- Real Estate Listing Scraping\n",
    "- SEO (Search Engine Optimization)\n",
    "- Industry Statistics and Insights\n",
    "- Comparison Shopping Sites\n",
    "- Social Media Sentiment Analysis"
   ]
  },
  {
   "cell_type": "markdown",
   "id": "79f2a14e-d824-4159-bf98-2d264ecf892c",
   "metadata": {},
   "source": [
    "### Q2. What are the different methods used for Web Scraping?"
   ]
  },
  {
   "cell_type": "markdown",
   "id": "0bc4a4c6-32de-4222-85d5-81b5bec0dd2b",
   "metadata": {},
   "source": [
    "Here are a few techniques commonly used to scrape data from websites. In general, all web scraping techniques retrieve content from websites, process it using a scraping engine, and generate one or more data files with the extracted content.\n",
    "\n",
    "#### HTML Parsing\n",
    "\n",
    "HTML parsing involves the use of JavaScript to target a linear or nested HTML page. It is a powerful and fast method for extracting text and links (e.g. a nested link or email address), scraping screens and pulling resources.\n",
    "\n",
    "#### DOM Parsing\n",
    "\n",
    "The Document Object Model (DOM) defines the structure, style and content of an XML file. Scrapers typically use a DOM parser to view the structure of web pages in depth. DOM parsers can be used to access the nodes that contain information and scrape the web page with tools like XPath. For dynamically generated content, scrapers can embed web browsers like Firefox and Internet Explorer to extract whole web pages (or parts of them).\n",
    "\n",
    "#### Vertical Aggregation\n",
    "\n",
    "Companies that use extensive computing power can create vertical aggregation platforms to target particular verticals. These are data harvesting platforms that can be run on the cloud and are used to automatically generate and monitor bots for certain verticals with minimal human intervention. Bots are generated according to the information required to each vertical, and their efficiency is determined by the quality of data they extract.\n",
    "\n",
    "#### XPath\n",
    "\n",
    "XPath is short for XML Path Language, which is a query language for XML documents. XML documents have tree-like structures, so scrapers can use XPath to navigate through them by selecting nodes according to various parameters. A scraper may combine DOM parsing with XPath to extract whole web pages and publish them on a destination site.\n",
    "\n",
    "#### Google Sheets\n",
    "\n",
    "Google Sheets is a popular tool for data scraping. Scarpers can use the IMPORTXML function in Sheets to scrape from a website, which is useful if they want to extract a specific pattern or data from the website. This command also makes it possible to check if a website can be scraped or is protected."
   ]
  },
  {
   "cell_type": "markdown",
   "id": "9a66b02c-e91c-4630-922a-e00c7bc4a467",
   "metadata": {},
   "source": [
    "### Q3. What is Beautiful Soup? Why is it used?"
   ]
  },
  {
   "cell_type": "markdown",
   "id": "5e7fdd56-eff8-401b-aeff-5a9037e00b0d",
   "metadata": {},
   "source": [
    "Beautiful Soup provides simple methods for navigating, searching, and modifying a parse tree in HTML, XML files. It transforms a complex HTML document into a tree of Python objects. It also automatically converts the document to Unicode, so you don't have to think about encodings. Beautiful Soup is a Python library for pulling data out of HTML and XML files. It commonly saves programmers hours or days of work."
   ]
  },
  {
   "cell_type": "markdown",
   "id": "0371281d-83e4-42cb-8401-c6fe41bb2fad",
   "metadata": {},
   "source": [
    "### Q4. Why is flask used in this Web Scraping project?"
   ]
  },
  {
   "cell_type": "markdown",
   "id": "f8ad9c71-f9c6-4229-8d8c-2fef7989e5d6",
   "metadata": {},
   "source": [
    "Because Flask is a lightweight framework to build websites and doesn't require much effort to learn. Its also more explicit than his big bro Django which makes it easier to understand and implement a simple web application. All in all, its saves TIME."
   ]
  },
  {
   "cell_type": "markdown",
   "id": "f1e381e8-6d3e-4c23-b2a0-724b1bd91cb4",
   "metadata": {},
   "source": [
    "### Q5. Write the names of AWS services used in this project. Also, explain the use of each service."
   ]
  },
  {
   "cell_type": "markdown",
   "id": "61bae4e3-636d-4c83-9f07-b30f7d124182",
   "metadata": {},
   "source": [
    "The AWS services utilized are as follows:\n",
    "\n",
    "- Code Pipeline \n",
    "- Bean Stalk \n",
    "\n",
    "#### Code Pipeline\n",
    "\n",
    "It is a continues delivery service we can use to model, visualize, and automate the steps required to release your software. We can quickly model and configure the different stages of a software release process. Code pipeline automates the steps required to release your software changes continuously.\n",
    "\n",
    "#### Bean Stalk\n",
    "\n",
    "AWS Elastic Beanstalk is a conputer service that makes it easier for developer to quickly deploy and manage applciation that they uploaded to AWS cloud beanstalk handle the configuration and provision for them by reducing management complexity without restricting choice or control."
   ]
  }
 ],
 "metadata": {
  "kernelspec": {
   "display_name": "Python 3 (ipykernel)",
   "language": "python",
   "name": "python3"
  },
  "language_info": {
   "codemirror_mode": {
    "name": "ipython",
    "version": 3
   },
   "file_extension": ".py",
   "mimetype": "text/x-python",
   "name": "python",
   "nbconvert_exporter": "python",
   "pygments_lexer": "ipython3",
   "version": "3.10.8"
  }
 },
 "nbformat": 4,
 "nbformat_minor": 5
}
