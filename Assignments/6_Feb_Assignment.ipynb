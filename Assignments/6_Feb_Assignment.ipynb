{
 "cells": [
  {
   "cell_type": "markdown",
   "id": "4ef972d7",
   "metadata": {},
   "source": [
    "<h1><center>Assignment</center></h1>"
   ]
  },
  {
   "cell_type": "markdown",
   "id": "274ae9c8",
   "metadata": {},
   "source": [
    "### Q-1) Create a function which will take a list as an argument and return the product of all the numbers after creating a flat list. \n",
    "\n",
    "Use the below-given list as an argument for your function:\n",
    "\n",
    "list1 = [1,2,3,4, [44,55,66, True], False, (34,56,78,89,34), {1,2,3,3,2,1}, {1:34, \"key2\": [55, 67, 78, 89], 4: (45,\n",
    "22, 61, 34)}, [56, 'data science'], 'Machine Learning']\n",
    "\n",
    "Note: you must extract numeric keys and values of the dictionary also."
   ]
  },
  {
   "cell_type": "code",
   "execution_count": 19,
   "id": "a9e45245",
   "metadata": {},
   "outputs": [],
   "source": [
    "list1 = [1,2,3,4, [44,55,66, True], False, (34,56,78,89,34), {1,2,3,3,2,1}, {1:34, \"key2\": [55, 67, 78, 89], 4: (45, 22, 61, 34)}, [56, 'data science'], 'Machine Learning']"
   ]
  },
  {
   "cell_type": "code",
   "execution_count": 26,
   "id": "78d7ac75",
   "metadata": {},
   "outputs": [],
   "source": [
    "def fun(list1):\n",
    "    from functools import reduce\n",
    "    l = []\n",
    "    for i in list1:\n",
    "        if type(i) == int:\n",
    "            l.append(i)\n",
    "        elif type(i) == list or type(i) == tuple or type(i) == set:\n",
    "            for j in i:\n",
    "                if type(j) == int:\n",
    "                    l.append(j)\n",
    "                else:\n",
    "                    pass\n",
    "        elif type(i) == dict:\n",
    "            for j in i.values():\n",
    "                if type(j) == int:\n",
    "                    l.append(j)\n",
    "                elif type(j) == list or type(j) == tuple or type(j) == set:\n",
    "                    for k in j:\n",
    "                        if type(k) == int:\n",
    "                            l.append(k)\n",
    "            for j in i.keys():\n",
    "                if type(j) == int:\n",
    "                    l.append(j)\n",
    "                elif type(j) == list or type(j) == tuple or type(j) == set:\n",
    "                    for k in j:\n",
    "                        if type(k) == int:\n",
    "                            l.append(k)\n",
    "        else:\n",
    "            pass\n",
    "\n",
    "    product_of_all = reduce(lambda x,y : x*y, l)\n",
    "    print(l)\n",
    "    print(product_of_all)"
   ]
  },
  {
   "cell_type": "code",
   "execution_count": 27,
   "id": "e5b79a79",
   "metadata": {},
   "outputs": [
    {
     "name": "stdout",
     "output_type": "stream",
     "text": [
      "[1, 2, 3, 4, 44, 55, 66, 34, 56, 78, 89, 34, 1, 2, 3, 34, 55, 67, 78, 89, 45, 22, 61, 34, 1, 4, 56]\n",
      "4134711838987085478833841242112000\n"
     ]
    }
   ],
   "source": [
    "fun(list1)"
   ]
  },
  {
   "cell_type": "markdown",
   "id": "a7a88277",
   "metadata": {},
   "source": [
    "### Q2. Write a python program for encrypting a message sent to you by your friend. The logic of encryption should be such that, for a the output should be z. For b, the output should be y. For c, the output should be x respectively. Also, the whitespace should be replaced with a dollar sign. Keep the punctuation marks unchanged.\n",
    "\n",
    "Input Sentence: I want to become a Data Scientist.\n",
    "\n",
    "Encrypt the above input sentence using the program you just created.\n",
    "\n",
    "Note: Convert the given input sentence into lowercase before encrypting. The final output should be\n",
    "lowercase."
   ]
  },
  {
   "cell_type": "code",
   "execution_count": 34,
   "id": "8e276ca8",
   "metadata": {},
   "outputs": [
    {
     "data": {
      "text/plain": [
       "'i want to become a data scientist.'"
      ]
     },
     "execution_count": 34,
     "metadata": {},
     "output_type": "execute_result"
    }
   ],
   "source": [
    "string = \"I want to become a Data Scientist.\"\n",
    "\n",
    "string = string.lower()\n",
    "string = string.replace()"
   ]
  },
  {
   "cell_type": "code",
   "execution_count": null,
   "id": "9b39bccc",
   "metadata": {},
   "outputs": [],
   "source": []
  }
 ],
 "metadata": {
  "kernelspec": {
   "display_name": "Python 3",
   "language": "python",
   "name": "python3"
  },
  "language_info": {
   "codemirror_mode": {
    "name": "ipython",
    "version": 3
   },
   "file_extension": ".py",
   "mimetype": "text/x-python",
   "name": "python",
   "nbconvert_exporter": "python",
   "pygments_lexer": "ipython3",
   "version": "3.8.8"
  }
 },
 "nbformat": 4,
 "nbformat_minor": 5
}
