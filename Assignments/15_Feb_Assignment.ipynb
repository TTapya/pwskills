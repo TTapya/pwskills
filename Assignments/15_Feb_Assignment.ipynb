{
 "cells": [
  {
   "cell_type": "markdown",
   "id": "1b6eb126",
   "metadata": {},
   "source": [
    "<h1><center>Assignment</center></h1>"
   ]
  },
  {
   "cell_type": "markdown",
   "id": "046d0162",
   "metadata": {},
   "source": [
    "### Q-1) What is multiprocessing in python? Why is it useful?"
   ]
  },
  {
   "cell_type": "markdown",
   "id": "f87857e5",
   "metadata": {},
   "source": [
    "The ability of system to execute multiple process simultaneously. It enables smaller thread to run independently\n",
    "so process run parallel. Multiprocessing helps in increasing overall Performance & efficiency."
   ]
  },
  {
   "cell_type": "markdown",
   "id": "3c12fb47",
   "metadata": {},
   "source": [
    "### Q-2) What are the differences between multiprocessing and multithreading?"
   ]
  },
  {
   "cell_type": "markdown",
   "id": "46f63666",
   "metadata": {},
   "source": [
    "#### Multiprocessing vs Multithreading\n",
    "- Multiprocessing involves multiple process running at once whereas in multithreading single process/thread executing at time\n",
    "- In Multithreading all threads share same memory and processor which makes data sharing & communication easy while multiprocessing multiple process runs in parallel\n",
    "- As Multiprocessing usage multiprocess it improve overall performace and efficiency while multithreading share space soo needs lesser computing and lesser space\n",
    "- Creating multiprocess a bit difficult than multiple threads\n",
    "- To boost multiprocessing adding CPU helps but not in multithreading"
   ]
  },
  {
   "cell_type": "markdown",
   "id": "a85558f8",
   "metadata": {},
   "source": [
    "### Q-3) Write a python code to create a process using the multiprocessing module."
   ]
  },
  {
   "cell_type": "code",
   "execution_count": 1,
   "id": "e1a42230",
   "metadata": {},
   "outputs": [
    {
     "name": "stdout",
     "output_type": "stream",
     "text": [
      "Did a thing\n"
     ]
    }
   ],
   "source": [
    "import multiprocessing\n",
    "\n",
    "def do_something():\n",
    "    print(\"Did a thing\")\n",
    "    \n",
    "p = multiprocessing.Process(target=do_something)\n",
    "p.start()\n",
    "p.join()"
   ]
  },
  {
   "cell_type": "markdown",
   "id": "2f19f691",
   "metadata": {},
   "source": [
    "### Q-4) What is a multiprocessing pool in python? Why is it used?"
   ]
  },
  {
   "cell_type": "markdown",
   "id": "181ff569",
   "metadata": {},
   "source": [
    "A process pool is a programming pattern for automatically managing a pool of worker processes.\n",
    "\n",
    "The pool is responsible for a fixed number of processes.\n",
    "\n",
    "It controls when they are created, such as when they are needed.\n",
    "It also controls what they should do when they are not being used, such as making them wait without consuming computational resources.\n",
    "The pool can provide a generic interface for executing ad hoc tasks with a variable number of arguments, much like the target property on the Process object, but does not require that we choose a process to run the task, start the process, or wait for the task to complete.\n",
    "\n",
    "Python provides a process pool via the multiprocessing.Pool class."
   ]
  },
  {
   "cell_type": "markdown",
   "id": "6df9c1a0",
   "metadata": {},
   "source": [
    "### Q-5) How can we create a pool of worker processes in python using the multiprocessing module?"
   ]
  },
  {
   "cell_type": "code",
   "execution_count": 2,
   "id": "ba23b6f8",
   "metadata": {},
   "outputs": [
    {
     "name": "stdout",
     "output_type": "stream",
     "text": [
      "[0, 1, 4, 9, 16, 25, 36, 49, 64, 81]\n",
      "0\n",
      "1\n",
      "4\n",
      "9\n",
      "16\n",
      "25\n",
      "36\n",
      "49\n",
      "64\n",
      "81\n",
      "400\n",
      "Now pool is no longer available\n"
     ]
    }
   ],
   "source": [
    "from multiprocessing import Pool\n",
    "\n",
    "def f(x):\n",
    "    return x*x\n",
    "\n",
    "if __name__ == '__main__':\n",
    "    with Pool(processes=4) as pool:\n",
    "        print(pool.map(f, range(10)))\n",
    "        for i in pool.imap_unordered(f, range(10)):\n",
    "            print(i)\n",
    "        res = pool.apply_async(f, (20,))      \n",
    "        print(res.get(timeout=1))            \n",
    "    print(\"Now pool is no longer available\")"
   ]
  },
  {
   "cell_type": "markdown",
   "id": "6c27eb8b",
   "metadata": {},
   "source": [
    "### Q-6) Write a python program to create 4 processes, each process should print a different number using the multiprocessing module in python."
   ]
  },
  {
   "cell_type": "code",
   "execution_count": 3,
   "id": "f1645014",
   "metadata": {},
   "outputs": [
    {
     "name": "stdout",
     "output_type": "stream",
     "text": [
      "0\n",
      "1\n",
      "2\n",
      "3\n"
     ]
    }
   ],
   "source": [
    "from multiprocessing import Process\n",
    "\n",
    "def print_number(x):\n",
    "    print(x)\n",
    "\n",
    "processes = []\n",
    "for i in range(4):\n",
    "    process = Process(target=print_number, args=(i,))\n",
    "    processes.append(process)\n",
    "    process.start()\n",
    "\n",
    "for process in processes:\n",
    "    process.join()"
   ]
  }
 ],
 "metadata": {
  "kernelspec": {
   "display_name": "Python 3 (ipykernel)",
   "language": "python",
   "name": "python3"
  },
  "language_info": {
   "codemirror_mode": {
    "name": "ipython",
    "version": 3
   },
   "file_extension": ".py",
   "mimetype": "text/x-python",
   "name": "python",
   "nbconvert_exporter": "python",
   "pygments_lexer": "ipython3",
   "version": "3.10.8"
  }
 },
 "nbformat": 4,
 "nbformat_minor": 5
}
